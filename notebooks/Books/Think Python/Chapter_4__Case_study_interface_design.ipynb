{
 "cells": [
  {
   "cell_type": "markdown",
   "metadata": {},
   "source": [
    "## Chapter 4  Case study: interface design\n",
    "\n",
    "> This chapter presents a case study that demonstrates a process for designing functions that work together.\n",
    "\n",
    "\n",
    "\n",
    "* The turtle module\n",
    "* Simple repetition\n",
    "* Exercises\n",
    "* **Encapsulation**\n",
    "* **Generalization**\n",
    "* **Interface design**\n",
    "* **Refactoring**\n",
    "* **A development plan**\n",
    "* **docstring**\n",
    "* Debugging"
   ]
  },
  {
   "cell_type": "markdown",
   "metadata": {},
   "source": [
    "## 4.1 The turtle module"
   ]
  },
  {
   "cell_type": "code",
   "execution_count": 1,
   "metadata": {},
   "outputs": [
    {
     "data": {
      "text/plain": [
       "'0.23.4'"
      ]
     },
     "execution_count": 1,
     "metadata": {},
     "output_type": "execute_result"
    }
   ],
   "source": [
    "import pandas\n",
    "pandas.__version__"
   ]
  },
  {
   "cell_type": "code",
   "execution_count": 2,
   "metadata": {},
   "outputs": [],
   "source": [
    "import turtle"
   ]
  },
  {
   "cell_type": "markdown",
   "metadata": {},
   "source": [
    "> The turtle module (with a lowercase ’t’) provides a function called Turtle (with an uppercase ’T’) that creates a Turtle object, which we assign to a variable named bob. Printing bob displays something like:"
   ]
  },
  {
   "cell_type": "code",
   "execution_count": null,
   "metadata": {
    "scrolled": true
   },
   "outputs": [
    {
     "name": "stdout",
     "output_type": "stream",
     "text": [
      "<turtle.Turtle object at 0x7febbee7b898>\n"
     ]
    }
   ],
   "source": [
    "# mypolygon.py\n",
    "import turtle\n",
    "bob = turtle.Turtle()\n",
    "print(bob)\n",
    "turtle.mainloop()\n",
    "\n",
    "import os\n",
    "os._exit(00)"
   ]
  },
  {
   "cell_type": "code",
   "execution_count": null,
   "metadata": {},
   "outputs": [],
   "source": [
    "# draw a right angle\n",
    "import turtle\n",
    "bob = turtle.Turtle()\n",
    "bob.fd(100)\n",
    "bob.lt(90)\n",
    "bob.fd(100)\n",
    "turtle.mainloop()\n",
    "\n",
    "import os\n",
    "os._exit(00)"
   ]
  },
  {
   "cell_type": "code",
   "execution_count": null,
   "metadata": {},
   "outputs": [],
   "source": [
    "# A method is similar to a function, but it uses slightly different syntax. \n",
    "import turtle\n",
    "bob = turtle.Turtle()\n",
    "bob.fd(100)\n",
    "bob.lt(90)\n",
    "bob.fd(100)\n",
    "turtle.mainloop()\n",
    "\n",
    "import os\n",
    "os._exit(00)"
   ]
  },
  {
   "cell_type": "markdown",
   "metadata": {},
   "source": [
    "* A **function** is a piece of code that is called by name. It can be passed data to operate on (i.e. the parameters) and can optionally return data (the return value). All data that is passed to a function is explicitly passed.<br/><br/>\n",
    "\n",
    "* A **method** is a piece of code that is called by a name **that is associated with an object**. In most respects it is identical to a function except for two key differences:\n",
    "    * A method is implicitly passed the object on which it was called.\n",
    "    * A method is able to operate on data that is contained within the class"
   ]
  },
  {
   "cell_type": "markdown",
   "metadata": {},
   "source": [
    "## 4.2  Simple repetition"
   ]
  },
  {
   "cell_type": "code",
   "execution_count": null,
   "metadata": {
    "scrolled": true
   },
   "outputs": [],
   "source": [
    "# square\n",
    "import turtle\n",
    "bob3 = turtle.Turtle()\n",
    "\n",
    "bob3.fd(100)\n",
    "bob3.lt(90)\n",
    "\n",
    "bob3.fd(100)\n",
    "bob3.lt(90)\n",
    "\n",
    "bob3.fd(100)\n",
    "bob3.lt(90)\n",
    "\n",
    "bob3.fd(100)\n",
    "\n",
    "turtle.mainloop()\n",
    "\n",
    "import os\n",
    "os._exit(00)"
   ]
  },
  {
   "cell_type": "markdown",
   "metadata": {},
   "source": [
    "> A for statement is also called a loop because the flow of execution runs through the body and then loops back to the top"
   ]
  },
  {
   "cell_type": "code",
   "execution_count": 1,
   "metadata": {},
   "outputs": [
    {
     "name": "stdout",
     "output_type": "stream",
     "text": [
      "Hello!\n",
      "Hello!\n",
      "Hello!\n",
      "Hello!\n"
     ]
    }
   ],
   "source": [
    "for i in range(4):\n",
    "    print('Hello!')"
   ]
  },
  {
   "cell_type": "code",
   "execution_count": null,
   "metadata": {},
   "outputs": [],
   "source": [
    "# square \n",
    "import turtle\n",
    "bob = turtle.Turtle()\n",
    "for i in range(4):\n",
    "    bob.fd(100)\n",
    "    bob.lt(90)\n",
    "\n",
    "turtle.done()\n",
    "\n",
    "import os\n",
    "os._exit(00)"
   ]
  },
  {
   "cell_type": "markdown",
   "metadata": {},
   "source": [
    "Did you notice the difference between both programs?\n",
    "\n",
    "**The art of cognitive blindspots | Kyle Eschen**\n",
    "\n",
    "https://www.youtube.com/watch?reload=9&v=OOG65rSM5fA"
   ]
  },
  {
   "cell_type": "markdown",
   "metadata": {},
   "source": [
    "## 4.3  Exercises\n",
    "\n",
    "1. Write a function called square that takes a parameter named t, which is a turtle. It should use the turtle to draw a square.\n",
    "Write a function call that passes bob as an argument to square, and then run the program again.<br /><br />\n",
    "\n",
    "2. Add another parameter, named length, to square. Modify the body so length of the sides is length, and then modify the function call to provide a second argument. Run the program again. Test your program with a range of values for length.<br /><br />\n",
    "\n",
    "3. Make a copy of square and change the name to polygon. Add another parameter named n and modify the body so it draws an n-sided regular polygon. Hint: The exterior angles of an n-sided regular polygon are 360/n degrees.<br /><br />\n",
    "\n",
    "4. Write a function called circle that takes a turtle, t, and radius, r, as parameters and that draws an approximate circle by calling polygon with an appropriate length and number of sides. Test your function with a range of values of r.\n",
    "Hint: figure out the circumference of the circle and make sure that length * n = circumference.<br /><br />\n",
    "\n",
    "5. Make a more general version of circle called arc that takes an additional parameter angle, which determines what fraction of a circle to draw. angle is in units of degrees, so when angle=360, arc should draw a complete circle."
   ]
  },
  {
   "cell_type": "markdown",
   "metadata": {},
   "source": [
    "## 4.4  Encapsulation\n",
    "\n",
    "> Wrapping a piece of code up in a function is called encapsulation. \n",
    "\n",
    "The major advantages: \n",
    "* code re-use\n",
    "* shorter programs (it is more concise to call a function twice than to copy and paste the body)"
   ]
  },
  {
   "cell_type": "code",
   "execution_count": null,
   "metadata": {},
   "outputs": [],
   "source": [
    "# square \n",
    "import turtle\n",
    "\n",
    "def square(t):\n",
    "    for i in range(4):\n",
    "        t.fd(100)\n",
    "        t.lt(90)\n",
    "\n",
    "bob = turtle.Turtle()\n",
    "square(bob)\n",
    "turtle.done()\n",
    "\n",
    "import os\n",
    "os._exit(00)"
   ]
  },
  {
   "cell_type": "markdown",
   "metadata": {},
   "source": [
    "> The innermost statements, fd and lt are indented twice to show that they are inside the for loop, which is inside the function definition. The next line, square(bob), is flush with the left margin, which indicates the end of both the for loop and the function definition."
   ]
  },
  {
   "cell_type": "markdown",
   "metadata": {},
   "source": [
    "> Inside the function, t refers to the same turtle bob, so t.lt(90) has the same effect as bob.lt(90). In that case, why not call the parameter bob? "
   ]
  },
  {
   "cell_type": "markdown",
   "metadata": {},
   "source": [
    "## 4.5  Generalization\n",
    "\n",
    "> Adding a parameter to a function is called generalization because it makes the function more general: in the previous version, the square is always the same size; in this version it can be any size."
   ]
  },
  {
   "cell_type": "code",
   "execution_count": null,
   "metadata": {},
   "outputs": [],
   "source": [
    "# add a length parameter to square.  \n",
    "import turtle\n",
    "\n",
    "def square(t, length):\n",
    "    for i in range(4):\n",
    "        t.fd(length)\n",
    "        t.lt(90)\n",
    "\n",
    "\n",
    "\n",
    "bob = turtle.Turtle()\n",
    "square(bob, 100)\n",
    "\n",
    "turtle.done()\n",
    "\n",
    "import os\n",
    "os._exit(00)"
   ]
  },
  {
   "cell_type": "code",
   "execution_count": null,
   "metadata": {},
   "outputs": [],
   "source": [
    "# Instead of drawing squares, polygon draws regular polygons with any number of sides.\n",
    "import turtle\n",
    "\n",
    "def polygon(t, n, length):\n",
    "    angle = 360 / n\n",
    "    for i in range(n):\n",
    "        t.fd(length)\n",
    "        t.lt(angle)\n",
    "\n",
    "bob = turtle.Turtle()\n",
    "polygon(bob, 21, 70)\n",
    "\n",
    "turtle.done()\n",
    "\n",
    "import os\n",
    "os._exit(00)"
   ]
  },
  {
   "cell_type": "markdown",
   "metadata": {},
   "source": [
    "> When a function has more than a few numeric arguments, it is easy to forget what they are, or what order they should be in. In that case it is often a good idea to include the names of the parameters in the argument list:\n",
    "\n",
    "```python\n",
    "polygon(bob, n=7, length=70)```\n",
    "\n",
    "> These are called keyword arguments because they include the parameter names as “keywords” (not to be confused with Python keywords like while and def)."
   ]
  },
  {
   "cell_type": "markdown",
   "metadata": {},
   "source": [
    "## 4.6 Interface design\n",
    "\n",
    "> The interface of a function is a summary of how it is used: \n",
    "\n",
    "* what are the parameters? \n",
    "* What does the function do? \n",
    "* And what is the return value? \n",
    "\n",
    "> An interface is “clean” if it allows the caller to do what they want without dealing with unnecessary details.\n",
    "\n"
   ]
  },
  {
   "cell_type": "code",
   "execution_count": null,
   "metadata": {},
   "outputs": [],
   "source": [
    "# The next step is to write circle, which takes a radius, r, as a parameter. \n",
    "import turtle\n",
    "import math\n",
    "\n",
    "def polygon(t, n, length):\n",
    "    angle = 360 / n\n",
    "    for i in range(n):\n",
    "        t.fd(length)\n",
    "        t.lt(angle)\n",
    "\n",
    "def circle(t, r):\n",
    "    circumference = 2 * math.pi * r\n",
    "    n = 50\n",
    "    length = circumference / n\n",
    "    polygon(t, n, length)\n",
    "\n",
    "bob = turtle.Turtle()\n",
    "circle(bob, 75)\n",
    "\n",
    "turtle.done()\n",
    "\n",
    "import os\n",
    "os._exit(00)"
   ]
  },
  {
   "cell_type": "code",
   "execution_count": null,
   "metadata": {},
   "outputs": [],
   "source": [
    "# One limitation of this solution is that n is a constant,\n",
    "import turtle\n",
    "import math\n",
    "\n",
    "def polygon(t, n, length):\n",
    "    angle = 360 / n\n",
    "    for i in range(n):\n",
    "        t.fd(length)\n",
    "        t.lt(angle)\n",
    "\n",
    "def circle(t, r):\n",
    "    circumference = 2 * math.pi * r\n",
    "    n = int(circumference / 3) + 3\n",
    "    length = circumference / n\n",
    "    polygon(t, n, length)\n",
    "\n",
    "bob = turtle.Turtle()\n",
    "circle(bob, 75)\n",
    "\n",
    "turtle.done()\n",
    "\n",
    "import os\n",
    "os._exit(00)"
   ]
  },
  {
   "cell_type": "markdown",
   "metadata": {},
   "source": [
    "## 4.7  Refactoring\n",
    "\n",
    "> This process—rearranging a program to improve interfaces and facilitate code re-use—is called refactoring. In this case, we noticed that there was similar code in arc and polygon, so we “factored it out” into polyline."
   ]
  },
  {
   "cell_type": "code",
   "execution_count": null,
   "metadata": {
    "scrolled": true
   },
   "outputs": [],
   "source": [
    "# copy of polygon and transform it into arc\n",
    "import turtle\n",
    "import math\n",
    "\n",
    "def arc(t, r, angle):\n",
    "    arc_length = 2 * math.pi * r * angle / 360\n",
    "    n = int(arc_length / 3) + 1\n",
    "    step_length = arc_length / n\n",
    "    step_angle = angle / n\n",
    "    \n",
    "    for i in range(n):\n",
    "        t.fd(step_length)\n",
    "        t.lt(step_angle)\n",
    "\n",
    "bob = turtle.Turtle()\n",
    "arc(bob, 100, 180)\n",
    "\n",
    "turtle.done()\n",
    "\n",
    "import os\n",
    "os._exit(00)"
   ]
  },
  {
   "cell_type": "code",
   "execution_count": null,
   "metadata": {},
   "outputs": [],
   "source": [
    "# general function polyline\n",
    "# rewrite polygon and arc to use polyline\n",
    "\n",
    "import turtle\n",
    "import math\n",
    "\n",
    "def polyline(t, n, length, angle):\n",
    "    for i in range(n):\n",
    "        t.fd(length)\n",
    "        t.lt(angle)\n",
    "\n",
    "def polygon(t, n, length):\n",
    "    angle = 360.0 / n\n",
    "    polyline(t, n, length, angle)\n",
    "\n",
    "def arc(t, r, angle):\n",
    "    arc_length = 2 * math.pi * r * angle / 360\n",
    "    n = int(arc_length / 3) + 1\n",
    "    step_length = arc_length / n\n",
    "    step_angle = float(angle) / n\n",
    "    polyline(t, n, step_length, step_angle)\n",
    "    \n",
    "def circle(t, r):\n",
    "    arc(t, r, 360)\n",
    "\n",
    "bob = turtle.Turtle()\n",
    "arc(bob, 100, 180)\n",
    "\n",
    "turtle.done()\n",
    "\n",
    "import os\n",
    "os._exit(00)"
   ]
  },
  {
   "cell_type": "markdown",
   "metadata": {},
   "source": [
    "## 4.8  A development plan\n",
    "\n",
    "1. Start by writing a small program with no function definitions. <br/><br/>\n",
    "2. Once you get the program working, identify a coherent piece of it, encapsulate the piece in a function and give it a name.<br/><br/>\n",
    "3. Generalize the function by adding appropriate parameters.<br/><br/>\n",
    "4. Repeat steps 1–3 until you have a set of working functions. Copy and paste working code to avoid retyping (and re-debugging).<br/><br/>\n",
    "5. Look for opportunities to improve the program by refactoring. For example, if you have similar code in several places, consider factoring it into an appropriately general function.<br/><br/>\n"
   ]
  },
  {
   "cell_type": "markdown",
   "metadata": {},
   "source": [
    "## 4.9  docstring\n",
    "\n",
    "> A docstring is a string at the beginning of a function that explains the interface (“doc” is short for “documentation”)."
   ]
  },
  {
   "cell_type": "code",
   "execution_count": 1,
   "metadata": {},
   "outputs": [
    {
     "name": "stdout",
     "output_type": "stream",
     "text": [
      "polyline\n",
      "square\n"
     ]
    }
   ],
   "source": [
    "import turtle\n",
    "\n",
    "def polyline():\n",
    "    \"\"\"Draws n line segments with the given length and\n",
    "    angle (in degrees) between them.  t is a turtle.\n",
    "    \"\"\"  \n",
    "    print('polyline')\n",
    "    #for i in range(n):\n",
    "    #    t.fd(length)\n",
    "    #    t.lt(angle)\n",
    "    \n",
    "def square():\n",
    "    print('square')\n",
    "    \n",
    "polyline()       \n",
    "square()"
   ]
  },
  {
   "cell_type": "markdown",
   "metadata": {},
   "source": [
    "## 4.10  Debugging\n",
    "\n",
    "> If the preconditions are satisfied and the postconditions are not, the bug is in the function. If your pre- and postconditions are clear, they can help with debugging."
   ]
  }
 ],
 "metadata": {
  "kernelspec": {
   "display_name": "Python 3",
   "language": "python",
   "name": "python3"
  },
  "language_info": {
   "codemirror_mode": {
    "name": "ipython",
    "version": 3
   },
   "file_extension": ".py",
   "mimetype": "text/x-python",
   "name": "python",
   "nbconvert_exporter": "python",
   "pygments_lexer": "ipython3",
   "version": "3.6.8"
  }
 },
 "nbformat": 4,
 "nbformat_minor": 2
}
