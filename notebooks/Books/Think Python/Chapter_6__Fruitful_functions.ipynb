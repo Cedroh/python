{
 "cells": [
  {
   "cell_type": "markdown",
   "metadata": {},
   "source": [
    "# Chapter 6  Fruitful functions"
   ]
  },
  {
   "cell_type": "markdown",
   "metadata": {},
   "source": [
    "\n",
    "\n",
    "* Return values\n",
    "* Incremental development\n",
    "* Composition\n",
    "* Boolean functions\n",
    "* More recursion\n",
    "* Leap of faith"
   ]
  },
  {
   "cell_type": "markdown",
   "metadata": {},
   "source": [
    "## 6.1 Return values"
   ]
  },
  {
   "cell_type": "markdown",
   "metadata": {},
   "source": [
    "Many of the Python functions we have used, such as the math\n",
    "functions, produce return values. But the functions we’ve written\n",
    "are all void: they have an effect, like printing a value\n",
    "or moving a turtle, but they don’t have a return value. In\n",
    "this chapter you will learn to write fruitful functions."
   ]
  },
  {
   "cell_type": "code",
   "execution_count": null,
   "metadata": {},
   "outputs": [],
   "source": [
    "def print_str(s):\n",
    "    print(s)"
   ]
  },
  {
   "cell_type": "code",
   "execution_count": null,
   "metadata": {},
   "outputs": [],
   "source": [
    "def print(s):\n",
    "    print(s)\n",
    "print(1)"
   ]
  },
  {
   "cell_type": "code",
   "execution_count": null,
   "metadata": {},
   "outputs": [],
   "source": [
    "def double_int(i):\n",
    "    return i * 2"
   ]
  },
  {
   "cell_type": "markdown",
   "metadata": {},
   "source": [
    "Calling the function generates a return\n",
    "value, which we usually assign to a variable or use as part of an\n",
    "expression."
   ]
  },
  {
   "cell_type": "code",
   "execution_count": null,
   "metadata": {},
   "outputs": [],
   "source": [
    "e = math.exp(1.0)\n",
    "height = radius * math.sin(radians)"
   ]
  },
  {
   "cell_type": "code",
   "execution_count": null,
   "metadata": {},
   "outputs": [],
   "source": [
    "math.exp(1.0)"
   ]
  },
  {
   "cell_type": "code",
   "execution_count": null,
   "metadata": {},
   "outputs": [],
   "source": [
    "import math \n",
    "math.sin(radians)"
   ]
  },
  {
   "cell_type": "markdown",
   "metadata": {},
   "source": [
    "\n",
    "The functions we have written so far are void. Speaking casually,\n",
    "they have no return value; more precisely,\n",
    "their return value is None."
   ]
  },
  {
   "cell_type": "code",
   "execution_count": null,
   "metadata": {},
   "outputs": [],
   "source": [
    "def print_me(s):\n",
    "    print(s)"
   ]
  },
  {
   "cell_type": "code",
   "execution_count": null,
   "metadata": {},
   "outputs": [],
   "source": [
    "print_me('x')"
   ]
  },
  {
   "cell_type": "code",
   "execution_count": null,
   "metadata": {},
   "outputs": [],
   "source": [
    "y = print_me('x')\n",
    "y"
   ]
  },
  {
   "cell_type": "code",
   "execution_count": null,
   "metadata": {},
   "outputs": [],
   "source": [
    "print(y)"
   ]
  },
  {
   "cell_type": "markdown",
   "metadata": {},
   "source": [
    "In this chapter, we are (finally) going to write fruitful functions.\n",
    "The first example is area, which returns the area of a circle\n",
    "with the given radius:"
   ]
  },
  {
   "cell_type": "code",
   "execution_count": null,
   "metadata": {},
   "outputs": [],
   "source": [
    "def area(radius):\n",
    "    a = math.pi * radius**2\n",
    "    return a"
   ]
  },
  {
   "cell_type": "markdown",
   "metadata": {},
   "source": [
    "\n",
    "We have seen the return statement before, but in a fruitful\n",
    "function the return statement includes\n",
    "an expression. This statement means: “Return immediately from\n",
    "this function and use the following expression as a return value.”\n",
    "The expression can be arbitrarily complicated, so we could\n",
    "have written this function more concisely:\n",
    "\n"
   ]
  },
  {
   "cell_type": "code",
   "execution_count": null,
   "metadata": {},
   "outputs": [],
   "source": [
    "def area(radius):\n",
    "    return math.pi * radius**2"
   ]
  },
  {
   "cell_type": "markdown",
   "metadata": {},
   "source": [
    "\n",
    "On the other hand, temporary variables like a can make\n",
    "debugging easier.\n",
    "\n"
   ]
  },
  {
   "cell_type": "markdown",
   "metadata": {},
   "source": [
    "Sometimes it is useful to have multiple return statements, one in each\n",
    "branch of a conditional:"
   ]
  },
  {
   "cell_type": "code",
   "execution_count": null,
   "metadata": {},
   "outputs": [],
   "source": [
    "def absolute_value(x):\n",
    "    if x < 0:\n",
    "        return -x\n",
    "    else:\n",
    "        return x"
   ]
  },
  {
   "cell_type": "markdown",
   "metadata": {},
   "source": [
    "\n",
    "Since these return statements are in an alternative conditional,\n",
    "only one runs."
   ]
  },
  {
   "cell_type": "markdown",
   "metadata": {},
   "source": [
    "As soon as a return statement runs, the function\n",
    "terminates without executing any subsequent statements.\n",
    "Code that appears after a return statement, or any other place\n",
    "the flow of execution can never reach, is called dead code.\n"
   ]
  },
  {
   "cell_type": "code",
   "execution_count": null,
   "metadata": {},
   "outputs": [],
   "source": [
    "def area_x(radius):\n",
    "    return 0\n",
    "    print('x')"
   ]
  },
  {
   "cell_type": "code",
   "execution_count": null,
   "metadata": {},
   "outputs": [],
   "source": [
    "area_x(5)"
   ]
  },
  {
   "cell_type": "markdown",
   "metadata": {},
   "source": [
    "In a fruitful function, it is a good idea to ensure\n",
    "that every possible path through the program hits a\n",
    "return statement. For example:"
   ]
  },
  {
   "cell_type": "code",
   "execution_count": null,
   "metadata": {},
   "outputs": [],
   "source": [
    "def absolute_value(x):\n",
    "    if x < 0:\n",
    "        return -x\n",
    "    if x > 0:\n",
    "        return x"
   ]
  },
  {
   "cell_type": "markdown",
   "metadata": {},
   "source": [
    "\n",
    "This function is incorrect because if x happens to be 0,\n",
    "neither condition is true, and the function ends without hitting a\n",
    "return statement. If the flow of execution gets to the end\n",
    "of a function, the return value is None, which is not\n",
    "the absolute value of 0.\n",
    "\n"
   ]
  },
  {
   "cell_type": "code",
   "execution_count": null,
   "metadata": {},
   "outputs": [],
   "source": [
    "print(absolute_value(0))\n",
    "None"
   ]
  },
  {
   "cell_type": "markdown",
   "metadata": {},
   "source": [
    "\n",
    "By the way, Python provides a built-in function called \n",
    "abs that computes absolute values.\n",
    "\n"
   ]
  },
  {
   "cell_type": "markdown",
   "metadata": {},
   "source": [
    "As an **exercise**, write a compare function that\n",
    "takes two values, x and y, and returns 1 if x > y,\n",
    "0 if x == y, and -1 if x < y.\n",
    "\n"
   ]
  },
  {
   "cell_type": "markdown",
   "metadata": {},
   "source": [
    "**Bonus** You can return more tham one variable from a function by using list/tuple etc"
   ]
  },
  {
   "cell_type": "code",
   "execution_count": 1,
   "metadata": {},
   "outputs": [],
   "source": [
    "def area_y(radius):\n",
    "    return 0, 1, 3"
   ]
  },
  {
   "cell_type": "code",
   "execution_count": 2,
   "metadata": {},
   "outputs": [
    {
     "data": {
      "text/plain": [
       "(0, 1, 3)"
      ]
     },
     "execution_count": 2,
     "metadata": {},
     "output_type": "execute_result"
    }
   ],
   "source": [
    "area_y(5)"
   ]
  },
  {
   "cell_type": "markdown",
   "metadata": {},
   "source": [
    "## 6.2 Incremental development"
   ]
  },
  {
   "cell_type": "markdown",
   "metadata": {},
   "source": [
    "**Note**: Have a clear \n",
    "* use case\n",
    "* specifications\n",
    "* test results/case:\n",
    "\n",
    "> these values so that the horizontal distance is 3 and the\n",
    "vertical distance is 4; that way, the result is 5, the hypotenuse \n",
    "of a 3-4-5 triangle."
   ]
  },
  {
   "cell_type": "markdown",
   "metadata": {},
   "source": [
    "As you write larger functions, you might find yourself\n",
    "spending more time debugging."
   ]
  },
  {
   "cell_type": "markdown",
   "metadata": {},
   "source": [
    "To deal with increasingly complex programs,\n",
    "you might want to try a process called\n",
    "incremental development. The goal of incremental development\n",
    "is to avoid long debugging sessions by adding and testing only\n",
    "a small amount of code at a time.\n",
    "\n"
   ]
  },
  {
   "cell_type": "markdown",
   "metadata": {},
   "source": [
    "As an example, suppose you want to find the distance between two\n",
    "points, given by the coordinates (x1, y1) and (x2, y2).\n",
    "By the Pythagorean theorem, the distance is:\n",
    "\n",
    "distance = \t√(x2 − x1)2 + (y2 − y1)2\n"
   ]
  },
  {
   "cell_type": "markdown",
   "metadata": {},
   "source": [
    "\n",
    "The first step is to consider what a distance function should\n",
    "look like in Python. In other words, what are the inputs (parameters)\n",
    "and what is the output (return value)?"
   ]
  },
  {
   "cell_type": "markdown",
   "metadata": {},
   "source": [
    "In this case, the inputs are two points, which you can represent\n",
    "using four numbers. The return value is the distance represented by\n",
    "a floating-point value."
   ]
  },
  {
   "cell_type": "markdown",
   "metadata": {},
   "source": [
    "Immediately you can write an outline of the function:"
   ]
  },
  {
   "cell_type": "code",
   "execution_count": null,
   "metadata": {},
   "outputs": [],
   "source": [
    "def distance(x1, y1, x2, y2):\n",
    "    return 0.0"
   ]
  },
  {
   "cell_type": "markdown",
   "metadata": {},
   "source": [
    "\n",
    "Obviously, this version doesn’t compute distances; it always returns\n",
    "zero. But it is syntactically correct, and it runs, which means that\n",
    "you can test it before you make it more complicated."
   ]
  },
  {
   "cell_type": "markdown",
   "metadata": {},
   "source": [
    "To test the new function, call it with sample arguments:"
   ]
  },
  {
   "cell_type": "code",
   "execution_count": null,
   "metadata": {},
   "outputs": [],
   "source": [
    "distance(1, 2, 4, 6)"
   ]
  },
  {
   "cell_type": "markdown",
   "metadata": {},
   "source": [
    "\n",
    "I chose these values so that the horizontal distance is 3 and the\n",
    "vertical distance is 4; that way, the result is 5, the hypotenuse \n",
    "of a 3-4-5 triangle. When testing a function, it is\n",
    "useful to know the right answer.\n"
   ]
  },
  {
   "cell_type": "markdown",
   "metadata": {},
   "source": [
    "At this point we have confirmed that the function is syntactically\n",
    "correct, and we can start adding code to the body.\n",
    "A reasonable next step is to find the differences\n",
    "x2 − x1 and y2 − y1. The next version stores those values in\n",
    "temporary variables and prints them."
   ]
  },
  {
   "cell_type": "code",
   "execution_count": null,
   "metadata": {},
   "outputs": [],
   "source": [
    "def distance(x1, y1, x2, y2):\n",
    "    dx = x2 - x1\n",
    "    dy = y2 - y1\n",
    "    print('dx is', dx)\n",
    "    print('dy is', dy)\n",
    "    return 0.0"
   ]
  },
  {
   "cell_type": "code",
   "execution_count": null,
   "metadata": {},
   "outputs": [],
   "source": [
    "distance(1, 2, 4, 6)"
   ]
  },
  {
   "cell_type": "markdown",
   "metadata": {},
   "source": [
    "\n",
    "If the function is working, it should display dx is 3 and \n",
    "dy is 4. If so, we know that the function is getting the right\n",
    "arguments and performing the first computation correctly. If not,\n",
    "there are only a few lines to check."
   ]
  },
  {
   "cell_type": "markdown",
   "metadata": {},
   "source": [
    "Next we compute the sum of squares of dx and dy:"
   ]
  },
  {
   "cell_type": "code",
   "execution_count": null,
   "metadata": {},
   "outputs": [],
   "source": [
    "def distance(x1, y1, x2, y2):\n",
    "    dx = x2 - x1\n",
    "    dy = y2 - y1\n",
    "    dsquared = dx**2 + dy**2\n",
    "    print('dsquared is: ', dsquared)\n",
    "    return 0.0"
   ]
  },
  {
   "cell_type": "code",
   "execution_count": null,
   "metadata": {},
   "outputs": [],
   "source": [
    "distance(1, 2, 4, 6)"
   ]
  },
  {
   "cell_type": "markdown",
   "metadata": {},
   "source": [
    "\n",
    "Again, you would run the program at this stage and check the output\n",
    "(which should be 25).\n",
    "Finally, you can use math.sqrt to compute and return the result:\n",
    "\n"
   ]
  },
  {
   "cell_type": "code",
   "execution_count": null,
   "metadata": {},
   "outputs": [],
   "source": [
    "def distance(x1, y1, x2, y2):\n",
    "    dx = x2 - x1\n",
    "    dy = y2 - y1\n",
    "    dsquared = dx**2 + dy**2\n",
    "    result = math.sqrt(dsquared)\n",
    "    return result"
   ]
  },
  {
   "cell_type": "code",
   "execution_count": null,
   "metadata": {},
   "outputs": [],
   "source": [
    "distance(1, 2, 4, 6)"
   ]
  },
  {
   "cell_type": "markdown",
   "metadata": {},
   "source": [
    "\n",
    "If that works correctly, you are done. Otherwise, you might\n",
    "want to print the value of result before the return\n",
    "statement."
   ]
  },
  {
   "cell_type": "markdown",
   "metadata": {},
   "source": [
    "The final version of the function doesn’t display anything when it\n",
    "runs; it only returns a value. The print statements we wrote\n",
    "are useful for debugging, but once you get the function working, you\n",
    "should remove them. Code like that is called scaffolding\n",
    "because it is helpful for building the program but is not part of the\n",
    "final product.\n"
   ]
  },
  {
   "cell_type": "markdown",
   "metadata": {},
   "source": [
    "When you start out, you should add only a line or two of code at a\n",
    "time. As you gain more experience, you might find yourself writing\n",
    "and debugging bigger chunks. Either way, incremental development\n",
    "can save you a lot of debugging time."
   ]
  },
  {
   "cell_type": "markdown",
   "metadata": {},
   "source": [
    "The key aspects of the process are:"
   ]
  },
  {
   "cell_type": "markdown",
   "metadata": {},
   "source": [
    "As an exercise, use incremental development to write a function\n",
    "called hypotenuse that returns the length of the hypotenuse of a\n",
    "right triangle given the lengths of the other two legs as arguments.\n",
    "Record each stage of the development process as you go.\n"
   ]
  },
  {
   "cell_type": "markdown",
   "metadata": {},
   "source": [
    "## 6.3 Composition"
   ]
  },
  {
   "cell_type": "markdown",
   "metadata": {},
   "source": [
    "As you should expect by now, you can call one function from within\n",
    "another. As an example, we’ll write a function that takes two points,\n",
    "the center of the circle and a point on the perimeter, and computes\n",
    "the area of the circle."
   ]
  },
  {
   "cell_type": "markdown",
   "metadata": {},
   "source": [
    "Assume that the center point is stored in the variables xc and\n",
    "yc, and the perimeter point is in xp and yp. The\n",
    "first step is to find the radius of the circle, which is the distance\n",
    "between the two points. We just wrote a function, distance, that does that:"
   ]
  },
  {
   "cell_type": "code",
   "execution_count": null,
   "metadata": {},
   "outputs": [],
   "source": [
    "radius = distance(1, 2, 4, 6)\n",
    "radius"
   ]
  },
  {
   "cell_type": "markdown",
   "metadata": {},
   "source": [
    "\n",
    "The next step is to find the area of a circle with that radius;\n",
    "we just wrote that, too:"
   ]
  },
  {
   "cell_type": "code",
   "execution_count": null,
   "metadata": {},
   "outputs": [],
   "source": [
    "result = area(radius)\n",
    "result"
   ]
  },
  {
   "cell_type": "markdown",
   "metadata": {},
   "source": [
    "\n",
    "Encapsulating these steps in a function, we get:\n"
   ]
  },
  {
   "cell_type": "code",
   "execution_count": null,
   "metadata": {},
   "outputs": [],
   "source": [
    "def circle_area(xc, yc, xp, yp): # 1, 2, 4, 6\n",
    "    radius = distance(xc, yc, xp, yp) # 5\n",
    "    result = area(radius) # 78.539\n",
    "    return result"
   ]
  },
  {
   "cell_type": "markdown",
   "metadata": {},
   "source": [
    "\n",
    "The temporary variables radius and result are useful for\n",
    "development and debugging, but once the program is working, we can\n",
    "make it more concise by composing the function calls:"
   ]
  },
  {
   "cell_type": "code",
   "execution_count": null,
   "metadata": {},
   "outputs": [],
   "source": [
    "def circle_area(xc, yc, xp, yp):\n",
    "    return area(distance(xc, yc, xp, yp))\n",
    "circle_area(1, 2, 4, 6)"
   ]
  },
  {
   "cell_type": "markdown",
   "metadata": {},
   "source": [
    "## 6.4 Boolean functions"
   ]
  },
  {
   "cell_type": "markdown",
   "metadata": {},
   "source": [
    "Functions can return booleans, which is often convenient for hiding\n",
    "complicated tests inside functions. \n",
    "For example:"
   ]
  },
  {
   "cell_type": "code",
   "execution_count": null,
   "metadata": {},
   "outputs": [],
   "source": [
    "def is_divisible(x, y):\n",
    "    if x % y == 0:\n",
    "        return True\n",
    "    else:\n",
    "        return False"
   ]
  },
  {
   "cell_type": "markdown",
   "metadata": {},
   "source": [
    "\n",
    "It is common to give boolean functions names that sound like yes/no\n",
    "questions; is_divisible returns either True or False\n",
    "to indicate whether x is divisible by y."
   ]
  },
  {
   "cell_type": "markdown",
   "metadata": {},
   "source": [
    "Here is an example:"
   ]
  },
  {
   "cell_type": "code",
   "execution_count": null,
   "metadata": {},
   "outputs": [],
   "source": [
    "is_divisible(6, 4)"
   ]
  },
  {
   "cell_type": "code",
   "execution_count": null,
   "metadata": {},
   "outputs": [],
   "source": [
    "is_divisible(6, 3)"
   ]
  },
  {
   "cell_type": "code",
   "execution_count": null,
   "metadata": {},
   "outputs": [],
   "source": [
    "is_divisible(0, 0)"
   ]
  },
  {
   "cell_type": "markdown",
   "metadata": {},
   "source": [
    "\n",
    "The result of the == operator is a boolean, so we can write the\n",
    "function more concisely by returning it directly:"
   ]
  },
  {
   "cell_type": "code",
   "execution_count": null,
   "metadata": {},
   "outputs": [],
   "source": [
    "def is_divisible(x, y):\n",
    "    return x % y == 0"
   ]
  },
  {
   "cell_type": "markdown",
   "metadata": {},
   "source": [
    "\n",
    "Boolean functions are often used in conditional statements:\n",
    "\n"
   ]
  },
  {
   "cell_type": "code",
   "execution_count": null,
   "metadata": {},
   "outputs": [],
   "source": [
    "if is_divisible(x, y):\n",
    "    print('x is divisible by y')"
   ]
  },
  {
   "cell_type": "markdown",
   "metadata": {},
   "source": [
    "\n",
    "It might be tempting to write something like:"
   ]
  },
  {
   "cell_type": "code",
   "execution_count": null,
   "metadata": {},
   "outputs": [],
   "source": [
    "if is_divisible(x, y) == True:\n",
    "    print('x is divisible by y')"
   ]
  },
  {
   "cell_type": "markdown",
   "metadata": {},
   "source": [
    "\n",
    "But the extra comparison is unnecessary."
   ]
  },
  {
   "cell_type": "markdown",
   "metadata": {},
   "source": [
    "As an exercise, write a function is_between(x, y, z) that\n",
    "returns True if x ≤ y ≤ z or False otherwise."
   ]
  },
  {
   "cell_type": "markdown",
   "metadata": {},
   "source": [
    "## 6.5 More recursion"
   ]
  },
  {
   "cell_type": "markdown",
   "metadata": {},
   "source": [
    "We have only covered a small subset of Python, but you might\n",
    "be interested to know that this subset is a complete\n",
    "programming language, which means that anything that can be\n",
    "computed can be expressed in this language. Any program ever written\n",
    "could be rewritten using only the language features you have learned\n",
    "so far (actually, you would need a few commands to control devices\n",
    "like the mouse, disks, etc., but that’s all)."
   ]
  },
  {
   "cell_type": "markdown",
   "metadata": {},
   "source": [
    "Proving that claim is a nontrivial exercise first accomplished by Alan\n",
    "Turing, one of the first computer scientists (some would argue that he\n",
    "was a mathematician, but a lot of early computer scientists started as\n",
    "mathematicians). Accordingly, it is known as the Turing Thesis.\n",
    "For a more complete (and accurate) discussion of the Turing Thesis,\n",
    "I recommend Michael Sipser’s book Introduction to the\n",
    "Theory of Computation."
   ]
  },
  {
   "cell_type": "markdown",
   "metadata": {},
   "source": [
    "To give you an idea of what you can do with the tools you have learned\n",
    "so far, we’ll evaluate a few recursively defined mathematical\n",
    "functions. A recursive definition is similar to a circular\n",
    "definition, in the sense that the definition contains a reference to\n",
    "the thing being defined. A truly circular definition is not very\n",
    "useful:"
   ]
  },
  {
   "cell_type": "markdown",
   "metadata": {},
   "source": [
    "If you saw that definition in the dictionary, you might be annoyed. On\n",
    "the other hand, if you looked up the definition of the factorial\n",
    "function, denoted with the symbol !, you might get something like\n",
    "this:"
   ]
  },
  {
   "cell_type": "code",
   "execution_count": null,
   "metadata": {},
   "outputs": [],
   "source": [
    "0! = 1 \n",
    "n! = n (n−1)!"
   ]
  },
  {
   "cell_type": "markdown",
   "metadata": {},
   "source": [
    "\n",
    "This definition says that the factorial of 0 is 1, and the factorial\n",
    "of any other value, n, is n multiplied by the factorial of n−1."
   ]
  },
  {
   "cell_type": "markdown",
   "metadata": {},
   "source": [
    "So 3! is 3 times 2!, which is 2 times 1!, which is 1 times\n",
    "0!. Putting it all together, 3! equals 3 times 2 times 1 times 1,\n",
    "which is 6.\n",
    "\n",
    "\n"
   ]
  },
  {
   "cell_type": "markdown",
   "metadata": {},
   "source": [
    "If you can write a recursive definition of something, you can\n",
    "write a Python program to evaluate it. The first step is to decide\n",
    "what the parameters should be. In this case it should be clear\n",
    "that factorial takes an integer:"
   ]
  },
  {
   "cell_type": "code",
   "execution_count": null,
   "metadata": {},
   "outputs": [],
   "source": [
    "def factorial(n):"
   ]
  },
  {
   "cell_type": "markdown",
   "metadata": {},
   "source": [
    "\n",
    "If the argument happens to be 0, all we have to do is return 1:"
   ]
  },
  {
   "cell_type": "code",
   "execution_count": null,
   "metadata": {},
   "outputs": [],
   "source": [
    "def factorial(n):\n",
    "    if n == 0:\n",
    "        return 1"
   ]
  },
  {
   "cell_type": "markdown",
   "metadata": {},
   "source": [
    "\n",
    "Otherwise, and this is the interesting part, we have to make a\n",
    "recursive call to find the factorial of n−1 and then multiply it by\n",
    "n:"
   ]
  },
  {
   "cell_type": "code",
   "execution_count": null,
   "metadata": {},
   "outputs": [],
   "source": [
    "def factorial(n):\n",
    "    if n == 0:\n",
    "        return 1\n",
    "    else:\n",
    "        recurse = factorial(n-1)\n",
    "        result = n * recurse\n",
    "        return result"
   ]
  },
  {
   "cell_type": "markdown",
   "metadata": {},
   "source": [
    "\n",
    "The flow of execution for this program is similar to the flow of countdown in Section 5.8. If we call factorial\n",
    "with the value 3:"
   ]
  },
  {
   "cell_type": "markdown",
   "metadata": {},
   "source": [
    "Since 3 is not 0, we take the second branch and calculate the factorial\n",
    "of n-1..."
   ]
  },
  {
   "cell_type": "markdown",
   "metadata": {},
   "source": [
    "The return value (2) is multiplied by n, which is 3, and the result, 6,\n",
    "becomes the return value of the function call that started the whole\n",
    "process.\n"
   ]
  },
  {
   "cell_type": "markdown",
   "metadata": {},
   "source": [
    "Figure 6.1 shows what the stack diagram looks like for\n",
    "this sequence of function calls."
   ]
  },
  {
   "cell_type": "markdown",
   "metadata": {},
   "source": [
    "The return values are shown being passed back up the stack. In each\n",
    "frame, the return value is the value of result, which is the\n",
    "product of n and recurse.\n",
    "\n"
   ]
  },
  {
   "cell_type": "markdown",
   "metadata": {},
   "source": [
    "In the last frame, the local\n",
    "variables recurse and result do not exist, because\n",
    "the branch that creates them does not run."
   ]
  },
  {
   "cell_type": "markdown",
   "metadata": {},
   "source": [
    "## 6.6 Leap of faith\n",
    "\n",
    "#### flow of execution vs Leap of faith"
   ]
  },
  {
   "cell_type": "markdown",
   "metadata": {},
   "source": [
    "Following the flow of execution is one way to read programs, but\n",
    "it can quickly become overwhelming. An\n",
    "alternative is what I call the “leap of faith”. When you come to a\n",
    "function call, instead of following the flow of execution, you assume that the function works correctly and returns the right\n",
    "result."
   ]
  },
  {
   "cell_type": "markdown",
   "metadata": {},
   "source": [
    "In fact, you are already practicing this leap of faith when you use\n",
    "built-in functions. When you call math.cos or math.exp,\n",
    "you don’t examine the bodies of those functions. You just\n",
    "assume that they work because the people who wrote the built-in\n",
    "functions were good programmers."
   ]
  },
  {
   "cell_type": "code",
   "execution_count": null,
   "metadata": {},
   "outputs": [],
   "source": [
    "def circle_area(xc, yc, xp, yp): # 1, 2, 4, 6\n",
    "    radius = distance(xc, yc, xp, yp) # 5\n",
    "    result = area(radius) # 78.539\n",
    "    return result"
   ]
  },
  {
   "cell_type": "markdown",
   "metadata": {},
   "source": [
    "The same is true when you call one of your own functions. For\n",
    "example, in Section 6.4, we wrote a function called \n",
    "is_divisible that determines whether one number is divisible by\n",
    "another. Once we have convinced ourselves that this function is\n",
    "correct—by examining the code and testing—we can use the function\n",
    "without looking at the body again.\n"
   ]
  },
  {
   "cell_type": "code",
   "execution_count": null,
   "metadata": {},
   "outputs": [],
   "source": [
    "def is_divisible(x, y):\n",
    "    if x % y == 0:\n",
    "        return True\n",
    "    else:\n",
    "        return False"
   ]
  },
  {
   "cell_type": "markdown",
   "metadata": {},
   "source": [
    "The same is true of recursive programs. When you get to the recursive\n",
    "call, instead of following the flow of execution, you should assume\n",
    "that the recursive call works (returns the correct result) and then ask\n",
    "yourself, “Assuming that I can find the factorial of n−1, can I\n",
    "compute the factorial of n?” It is clear that you\n",
    "can, by multiplying by n."
   ]
  },
  {
   "cell_type": "markdown",
   "metadata": {},
   "source": [
    "Of course, it’s a bit strange to assume that the function works\n",
    "correctly when you haven’t finished writing it, but that’s why\n",
    "it’s called a leap of faith!"
   ]
  },
  {
   "cell_type": "markdown",
   "metadata": {},
   "source": [
    "## 6.7 One more example"
   ]
  },
  {
   "cell_type": "markdown",
   "metadata": {},
   "source": [
    "\n",
    "\n",
    "After factorial, the most common example of a recursively\n",
    "defined mathematical function is fibonacci, which has the\n",
    "following definition (see\n",
    "http://en.wikipedia.org/wiki/Fibonacci_number):\n",
    "\n",
    "\n",
    "```\n",
    "fibonacci(0) = 0 \n",
    " \t \tfibonacci(1) = 1 \n",
    " \t \tfibonacci(n) = fibonacci(n−1) + fibonacci(n−2)\n",
    "```"
   ]
  },
  {
   "cell_type": "markdown",
   "metadata": {},
   "source": [
    "\n",
    "Translated into Python, it looks like this:"
   ]
  },
  {
   "cell_type": "code",
   "execution_count": null,
   "metadata": {},
   "outputs": [],
   "source": [
    "def fibonacci(n):\n",
    "    if n == 0:\n",
    "        return 0\n",
    "    elif  n == 1:\n",
    "        return 1\n",
    "    else:\n",
    "        return fibonacci(n-1) + fibonacci(n-2)"
   ]
  },
  {
   "cell_type": "markdown",
   "metadata": {},
   "source": [
    "\n",
    "If you try to follow the flow of execution here, even for fairly\n",
    "small values of n, your head explodes. But according to the\n",
    "leap of faith, if you assume that the two recursive calls\n",
    "work correctly, then it is clear that you get\n",
    "the right result by adding them together.\n"
   ]
  },
  {
   "cell_type": "code",
   "execution_count": null,
   "metadata": {},
   "outputs": [],
   "source": [
    "for i in range(0,10):\n",
    "    print(fibonacci(i), end=', ')"
   ]
  },
  {
   "cell_type": "code",
   "execution_count": null,
   "metadata": {},
   "outputs": [],
   "source": [
    "fibonacci(8.0)"
   ]
  },
  {
   "cell_type": "code",
   "execution_count": null,
   "metadata": {},
   "outputs": [],
   "source": [
    "fibonacci(8.5)"
   ]
  },
  {
   "cell_type": "markdown",
   "metadata": {},
   "source": [
    "## 6.8 Checking types"
   ]
  },
  {
   "cell_type": "markdown",
   "metadata": {},
   "source": [
    "What happens if we call factorial and give it 1.5 as an argument?\n",
    "\n",
    "\n",
    "\n"
   ]
  },
  {
   "cell_type": "code",
   "execution_count": null,
   "metadata": {},
   "outputs": [],
   "source": [
    "factorial(1.5)\n",
    "RuntimeError: Maximum recursion depth exceeded"
   ]
  },
  {
   "cell_type": "markdown",
   "metadata": {},
   "source": [
    "\n",
    "It looks like an infinite recursion. How can that be? The function\n",
    "has a base case—when n == 0. But if n is not an integer,\n",
    "we can miss the base case and recurse forever.\n",
    "\n"
   ]
  },
  {
   "cell_type": "markdown",
   "metadata": {},
   "source": [
    "In the first recursive call, the value of n is 0.5.\n",
    "In the next, it is -0.5. From there, it gets smaller\n",
    "(more negative), but it will never be 0."
   ]
  },
  {
   "cell_type": "markdown",
   "metadata": {},
   "source": [
    "We have two choices. We can try to generalize the factorial\n",
    "function to work with floating-point numbers, or we can make factorial check the type of its argument. The first option is\n",
    "called the gamma function and it’s a\n",
    "little beyond the scope of this book. So we’ll go for the second.\n"
   ]
  },
  {
   "cell_type": "markdown",
   "metadata": {},
   "source": [
    "We can use the built-in function isinstance to verify the type\n",
    "of the argument. While we’re at it, we can also make sure the\n",
    "argument is positive:\n",
    "\n"
   ]
  },
  {
   "cell_type": "code",
   "execution_count": null,
   "metadata": {},
   "outputs": [],
   "source": [
    "def factorial(n):\n",
    "    if not isinstance(n, int):\n",
    "        print('Factorial is only defined for integers.')\n",
    "        return None\n",
    "    elif n < 0:\n",
    "        print('Factorial is not defined for negative integers.')\n",
    "        return None\n",
    "    elif n == 0:\n",
    "        return 1\n",
    "    else:\n",
    "        return n * factorial(n-1)"
   ]
  },
  {
   "cell_type": "markdown",
   "metadata": {},
   "source": [
    "\n",
    "The first base case handles nonintegers; the\n",
    "second handles negative integers. In both cases, the program prints\n",
    "an error message and returns None to indicate that something\n",
    "went wrong:"
   ]
  },
  {
   "cell_type": "code",
   "execution_count": null,
   "metadata": {},
   "outputs": [],
   "source": [
    "print(factorial('fred'))"
   ]
  },
  {
   "cell_type": "code",
   "execution_count": null,
   "metadata": {},
   "outputs": [],
   "source": [
    "print(factorial(-2))"
   ]
  },
  {
   "cell_type": "markdown",
   "metadata": {},
   "source": [
    "\n",
    "If we get past both checks, we know that n is a non-negative integer, so we can prove that the recursion terminates.\n",
    "\n"
   ]
  },
  {
   "cell_type": "markdown",
   "metadata": {},
   "source": [
    "This program demonstrates a pattern sometimes called a guardian.\n",
    "The first two conditionals act as guardians, protecting the code that\n",
    "follows from values that might cause an error. The guardians make it\n",
    "possible to prove the correctness of the code."
   ]
  },
  {
   "cell_type": "markdown",
   "metadata": {},
   "source": [
    "In Section 11.4 we will see a more flexible alternative to printing\n",
    "an error message: raising an exception."
   ]
  },
  {
   "cell_type": "markdown",
   "metadata": {},
   "source": [
    "## 6.9 Debugging"
   ]
  },
  {
   "cell_type": "markdown",
   "metadata": {},
   "source": [
    "Breaking a large program into smaller functions creates natural\n",
    "checkpoints for debugging. If a function is not\n",
    "working, there are three possibilities to consider:\n",
    " "
   ]
  },
  {
   "cell_type": "markdown",
   "metadata": {},
   "source": [
    "To rule out the first possibility, you can add a print statement\n",
    "at the beginning of the function and display the values of the\n",
    "parameters (and maybe their types). Or you can write code\n",
    "that checks the preconditions explicitly.\n",
    "\n"
   ]
  },
  {
   "cell_type": "markdown",
   "metadata": {},
   "source": [
    "If the parameters look good, add a print statement before each\n",
    "return statement and display the return value. If\n",
    "possible, check the result by hand. Consider calling the\n",
    "function with values that make it easy to check the result\n",
    "(as in Section 6.2)."
   ]
  },
  {
   "cell_type": "markdown",
   "metadata": {},
   "source": [
    "If the function seems to be working, look at the function call\n",
    "to make sure the return value is being used correctly (or used\n",
    "at all!).\n"
   ]
  },
  {
   "cell_type": "markdown",
   "metadata": {},
   "source": [
    "Adding print statements at the beginning and end of a function\n",
    "can help make the flow of execution more visible.\n",
    "For example, here is a version of factorial with\n",
    "print statements:"
   ]
  },
  {
   "cell_type": "code",
   "execution_count": null,
   "metadata": {},
   "outputs": [],
   "source": [
    "def factorial(n):\n",
    "    space = ' ' * (4 * n)\n",
    "    print(space, 'factorial', n)\n",
    "    if n == 0:\n",
    "        print(space, 'returning 1')\n",
    "        return 1\n",
    "    else:\n",
    "        recurse = factorial(n-1)\n",
    "        result = n * recurse\n",
    "        print(space, 'returning', result)\n",
    "        return result"
   ]
  },
  {
   "cell_type": "markdown",
   "metadata": {},
   "source": [
    "\n",
    "space is a string of space characters that controls the\n",
    "indentation of the output. Here is the result of factorial(4) :"
   ]
  },
  {
   "cell_type": "code",
   "execution_count": null,
   "metadata": {},
   "outputs": [],
   "source": [
    "factorial(4)"
   ]
  },
  {
   "cell_type": "markdown",
   "metadata": {},
   "source": [
    "\n",
    "If you are confused about the flow of execution, this kind of\n",
    "output can be helpful. It takes some time to develop effective\n",
    "scaffolding, but a little bit of scaffolding can save a lot of debugging."
   ]
  },
  {
   "cell_type": "markdown",
   "metadata": {},
   "source": [
    "## 6.10 Glossary"
   ]
  }
 ],
 "metadata": {
  "kernelspec": {
   "display_name": "Python 3",
   "language": "python",
   "name": "python3"
  },
  "language_info": {
   "codemirror_mode": {
    "name": "ipython",
    "version": 3
   },
   "file_extension": ".py",
   "mimetype": "text/x-python",
   "name": "python",
   "nbconvert_exporter": "python",
   "pygments_lexer": "ipython3",
   "version": "3.6.9"
  }
 },
 "nbformat": 4,
 "nbformat_minor": 2
}
