{
 "cells": [
  {
   "cell_type": "markdown",
   "metadata": {},
   "source": [
    "# Chapter 7  Iteration"
   ]
  },
  {
   "cell_type": "markdown",
   "metadata": {},
   "source": [
    "* 7.1  Reassignment\n",
    "* 7.2  Updating variables\n",
    "* 7.3  The while statement\n",
    "* 7.4  break\n",
    "* 7.5  Square roots\n",
    "* 7.6  Algorithms\n",
    "* 7.7  Debugging - Demo break the problem in half\n",
    "\n",
    "\n",
    "This chapter is about iteration, which is the ability to run\n",
    "a block of statements repeatedly. We saw a kind of iteration,\n",
    "using recursion, in Section 5.8.\n",
    "We saw another kind, using a for loop,\n",
    "in Section 4.2. In this chapter we’ll see yet another\n",
    "kind, using a while statement."
   ]
  },
  {
   "cell_type": "markdown",
   "metadata": {},
   "source": [
    "## 7.1 Reassignment"
   ]
  },
  {
   "cell_type": "markdown",
   "metadata": {},
   "source": [
    "But first I want to say a little more about variable assignment."
   ]
  },
  {
   "cell_type": "markdown",
   "metadata": {},
   "source": [
    "As you may have discovered, it is legal to make more than one\n",
    "assignment to the same variable. A new assignment makes an existing\n",
    "variable refer to a new value (and stop referring to the old value)."
   ]
  },
  {
   "cell_type": "code",
   "execution_count": 1,
   "metadata": {},
   "outputs": [
    {
     "data": {
      "text/plain": [
       "5"
      ]
     },
     "execution_count": 1,
     "metadata": {},
     "output_type": "execute_result"
    }
   ],
   "source": [
    "x = 5\n",
    "x"
   ]
  },
  {
   "cell_type": "code",
   "execution_count": 2,
   "metadata": {},
   "outputs": [
    {
     "data": {
      "text/plain": [
       "7"
      ]
     },
     "execution_count": 2,
     "metadata": {},
     "output_type": "execute_result"
    }
   ],
   "source": [
    "x = 7\n",
    "x"
   ]
  },
  {
   "cell_type": "markdown",
   "metadata": {},
   "source": [
    "\n",
    "The first time we display \n",
    "x, its value is 5; the second time, its\n",
    "value is 7."
   ]
  },
  {
   "cell_type": "markdown",
   "metadata": {},
   "source": [
    "Figure 7.1 shows what reassignment looks\n",
    "like in a state diagram.  "
   ]
  },
  {
   "cell_type": "markdown",
   "metadata": {},
   "source": [
    "At this point I want to address a common source of\n",
    "confusion.\n",
    "**Because Python uses the equal sign (=) for assignment, it is\n",
    "tempting to interpret a statement like a = b as a\n",
    "mathematical\n",
    "proposition of equality**; that is, the claim that a and\n",
    "b are equal. But this interpretation is wrong.\n"
   ]
  },
  {
   "cell_type": "markdown",
   "metadata": {},
   "source": [
    "First, equality is a symmetric relationship and assignment is not. For\n",
    "example, in mathematics, if `a=7` then `7=a`. But in Python, the\n",
    "statement `a = 7` is legal and `7 = a` is not."
   ]
  },
  {
   "cell_type": "markdown",
   "metadata": {},
   "source": [
    "Also, in mathematics, a proposition of equality is either true or\n",
    "false for all time. If `a=b` now, then a will always equal b.\n",
    "In Python, an assignment statement can make two variables equal, but\n",
    "they don’t have to stay that way:"
   ]
  },
  {
   "cell_type": "code",
   "execution_count": 3,
   "metadata": {},
   "outputs": [],
   "source": [
    "a = 5"
   ]
  },
  {
   "cell_type": "code",
   "execution_count": 4,
   "metadata": {},
   "outputs": [],
   "source": [
    "b = a    # a and b are now equal"
   ]
  },
  {
   "cell_type": "code",
   "execution_count": 5,
   "metadata": {},
   "outputs": [],
   "source": [
    "a = 3    # are a and b equal ?"
   ]
  },
  {
   "cell_type": "code",
   "execution_count": 6,
   "metadata": {},
   "outputs": [
    {
     "data": {
      "text/plain": [
       "5"
      ]
     },
     "execution_count": 6,
     "metadata": {},
     "output_type": "execute_result"
    }
   ],
   "source": [
    "b"
   ]
  },
  {
   "cell_type": "markdown",
   "metadata": {},
   "source": [
    "\n",
    "The third line changes the value of a but does not change the\n",
    "value of b, so they are no longer equal. "
   ]
  },
  {
   "cell_type": "markdown",
   "metadata": {},
   "source": [
    "Reassigning variables is often useful, but you should use it\n",
    "with caution. If the values of variables change frequently, it can\n",
    "make the code difficult to read and debug."
   ]
  },
  {
   "cell_type": "markdown",
   "metadata": {},
   "source": [
    "## Bonus: Python Constant\n",
    "\n",
    "https://docs.python.org/3/library/typing.html#typing.Final    "
   ]
  },
  {
   "cell_type": "code",
   "execution_count": null,
   "metadata": {},
   "outputs": [],
   "source": [
    "MAX_SIZE: Final = 9000\n",
    "MAX_SIZE += 1  # Error reported by type checker\n",
    "\n",
    "class Connection:\n",
    "    TIMEOUT: Final[int] = 10\n",
    "\n",
    "class FastConnector(Connection):\n",
    "    TIMEOUT = 1  # Error reported by type checker"
   ]
  },
  {
   "cell_type": "markdown",
   "metadata": {},
   "source": [
    "## 7.2 Updating variables"
   ]
  },
  {
   "cell_type": "markdown",
   "metadata": {},
   "source": [
    "A common kind of reassignment is an update,\n",
    "where the new value of the variable depends on the old."
   ]
  },
  {
   "cell_type": "code",
   "execution_count": 7,
   "metadata": {},
   "outputs": [],
   "source": [
    "x = x + 1"
   ]
  },
  {
   "cell_type": "code",
   "execution_count": 8,
   "metadata": {},
   "outputs": [
    {
     "data": {
      "text/plain": [
       "8"
      ]
     },
     "execution_count": 8,
     "metadata": {},
     "output_type": "execute_result"
    }
   ],
   "source": [
    "x"
   ]
  },
  {
   "cell_type": "markdown",
   "metadata": {},
   "source": [
    "\n",
    "This means “get the current value of x, add one, and then\n",
    "update x with the new value.”"
   ]
  },
  {
   "cell_type": "markdown",
   "metadata": {},
   "source": [
    "If you try to update a variable that doesn’t exist, you get an\n",
    "error, because Python evaluates the right side before it assigns\n",
    "a value to x:"
   ]
  },
  {
   "cell_type": "code",
   "execution_count": 9,
   "metadata": {},
   "outputs": [
    {
     "data": {
      "text/plain": [
       "8"
      ]
     },
     "execution_count": 9,
     "metadata": {},
     "output_type": "execute_result"
    }
   ],
   "source": [
    "x"
   ]
  },
  {
   "cell_type": "code",
   "execution_count": 10,
   "metadata": {},
   "outputs": [
    {
     "ename": "NameError",
     "evalue": "name 'x' is not defined",
     "output_type": "error",
     "traceback": [
      "\u001b[0;31m---------------------------------------------------------------------------\u001b[0m",
      "\u001b[0;31mNameError\u001b[0m                                 Traceback (most recent call last)",
      "\u001b[0;32m<ipython-input-10-7f68e65c9ea3>\u001b[0m in \u001b[0;36m<module>\u001b[0;34m()\u001b[0m\n\u001b[1;32m      1\u001b[0m \u001b[0;32mdel\u001b[0m \u001b[0mx\u001b[0m\u001b[0;34m\u001b[0m\u001b[0;34m\u001b[0m\u001b[0m\n\u001b[0;32m----> 2\u001b[0;31m \u001b[0mx\u001b[0m \u001b[0;34m=\u001b[0m \u001b[0mx\u001b[0m \u001b[0;34m+\u001b[0m \u001b[0;36m1\u001b[0m\u001b[0;34m\u001b[0m\u001b[0;34m\u001b[0m\u001b[0m\n\u001b[0m",
      "\u001b[0;31mNameError\u001b[0m: name 'x' is not defined"
     ]
    }
   ],
   "source": [
    "del x\n",
    "x = x + 1"
   ]
  },
  {
   "cell_type": "markdown",
   "metadata": {},
   "source": [
    "\n",
    "Before you can update a variable, you have to initialize\n",
    "it, usually with a simple assignment:\n"
   ]
  },
  {
   "cell_type": "code",
   "execution_count": 11,
   "metadata": {},
   "outputs": [],
   "source": [
    "x = 0\n",
    "x = x + 1"
   ]
  },
  {
   "cell_type": "markdown",
   "metadata": {},
   "source": [
    "\n",
    "Updating a variable by adding 1 is called an increment;\n",
    "subtracting 1 is called a decrement.\n",
    "\n"
   ]
  },
  {
   "cell_type": "markdown",
   "metadata": {},
   "source": [
    "## Bonus: Why are there no ++ and --​ operators in Python?\n",
    "\n",
    "https://stackoverflow.com/questions/3654830/why-are-there-no-and-operators-in-python\n",
    "\n",
    "1) Simple increment and decrement aren't needed as much as in other languages. You don't write things like \n",
    "`for(int i = 0; i < 10; ++i)` \n",
    "in Python very often; instead you do things like \n",
    "`for i in range(0, 10)`.\n",
    "\n",
    "2) Python is a lot about **clarity** and no programmer is likely to correctly guess the meaning of --a unless s/he's learned a language having that construct."
   ]
  },
  {
   "cell_type": "code",
   "execution_count": null,
   "metadata": {},
   "outputs": [],
   "source": [
    "x"
   ]
  },
  {
   "cell_type": "code",
   "execution_count": null,
   "metadata": {},
   "outputs": [],
   "source": [
    "x++\n",
    "++x"
   ]
  },
  {
   "cell_type": "code",
   "execution_count": 12,
   "metadata": {},
   "outputs": [
    {
     "data": {
      "text/plain": [
       "2"
      ]
     },
     "execution_count": 12,
     "metadata": {},
     "output_type": "execute_result"
    }
   ],
   "source": [
    "x+=1\n",
    "x"
   ]
  },
  {
   "cell_type": "code",
   "execution_count": 13,
   "metadata": {},
   "outputs": [
    {
     "data": {
      "text/plain": [
       "1"
      ]
     },
     "execution_count": 13,
     "metadata": {},
     "output_type": "execute_result"
    }
   ],
   "source": [
    "x-=1\n",
    "x"
   ]
  },
  {
   "cell_type": "markdown",
   "metadata": {},
   "source": [
    "## 7.3 The while statement"
   ]
  },
  {
   "cell_type": "markdown",
   "metadata": {},
   "source": [
    "Computers are often used to automate repetitive tasks. Repeating\n",
    "identical or similar tasks without making errors is something that\n",
    "computers do well and people do poorly. In a computer program,\n",
    "repetition is also called iteration."
   ]
  },
  {
   "cell_type": "markdown",
   "metadata": {},
   "source": [
    "We have already seen two functions, countdown and\n",
    "print_n, that iterate using recursion. Because iteration is so\n",
    "common, Python provides language features to make it easier.\n",
    "One is the for statement we saw in Section 4.2.\n",
    "We’ll get back to that later."
   ]
  },
  {
   "cell_type": "markdown",
   "metadata": {},
   "source": [
    "Another is the while statement. Here is a version of countdown that uses a while statement:"
   ]
  },
  {
   "cell_type": "code",
   "execution_count": null,
   "metadata": {},
   "outputs": [],
   "source": [
    "def countdown(n):\n",
    "    while n > 0:\n",
    "        print(n)\n",
    "        n = n - 1\n",
    "    print('Blastoff!')"
   ]
  },
  {
   "cell_type": "markdown",
   "metadata": {},
   "source": [
    "\n",
    "You can almost read the while statement as if it were English.\n",
    "It means, “While n is greater than 0,\n",
    "display the value of n and then decrement\n",
    "n. When you get to 0, display the word Blastoff!”\n"
   ]
  },
  {
   "cell_type": "markdown",
   "metadata": {},
   "source": [
    "More formally, here is the flow of execution for a while statement:"
   ]
  },
  {
   "cell_type": "markdown",
   "metadata": {},
   "source": [
    "This type of flow is called a loop because the third step\n",
    "loops back around to the top. \n",
    "\n",
    "\n"
   ]
  },
  {
   "cell_type": "markdown",
   "metadata": {},
   "source": [
    "The body of the loop should change the value of one or more variables\n",
    "so that the condition becomes false eventually and the loop\n",
    "terminates. Otherwise the loop will repeat forever, which is called\n",
    "an infinite loop. An endless source of amusement for computer\n",
    "scientists is the observation that the directions on shampoo,\n",
    "“Lather, rinse, repeat”, are an infinite loop.\n",
    "\n"
   ]
  },
  {
   "cell_type": "markdown",
   "metadata": {},
   "source": [
    "In the case of countdown, we can prove that the loop\n",
    "terminates: if n is zero or negative, the loop never runs.\n",
    "Otherwise, n gets smaller each time through the\n",
    "loop, so eventually we have to get to 0."
   ]
  },
  {
   "cell_type": "markdown",
   "metadata": {},
   "source": [
    "For some other loops, it is not so easy to tell. For example:"
   ]
  },
  {
   "cell_type": "code",
   "execution_count": null,
   "metadata": {},
   "outputs": [],
   "source": [
    "def sequence(n):\n",
    "    while n != 1:\n",
    "        print(n)\n",
    "        if n % 2 == 0:        # n is even\n",
    "            n = n / 2\n",
    "        else:                 # n is odd\n",
    "            n = n*3 + 1"
   ]
  },
  {
   "cell_type": "markdown",
   "metadata": {},
   "source": [
    "\n",
    "The condition for this loop is n != 1, so the loop will continue\n",
    "until n is 1, which makes the condition false."
   ]
  },
  {
   "cell_type": "markdown",
   "metadata": {},
   "source": [
    "Each time through the loop, the program outputs the value of n\n",
    "and then checks whether it is even or odd. If it is even, n is\n",
    "divided by 2. If it is odd, the value of n is replaced with\n",
    "n*3 + 1. For example, if the argument passed to sequence\n",
    "is 3, the resulting values of n are 3, 10, 5, 16, 8, 4, 2, 1."
   ]
  },
  {
   "cell_type": "markdown",
   "metadata": {},
   "source": [
    "Since n sometimes increases and sometimes decreases, there is no\n",
    "obvious proof that n will ever reach 1, or that the program\n",
    "terminates. For some particular values of n, we can prove\n",
    "termination. For example, if the starting value is a power of two,\n",
    "n will be even every time through the loop\n",
    "until it reaches 1. The previous example ends with such a sequence,\n",
    "starting with 16.\n"
   ]
  },
  {
   "cell_type": "markdown",
   "metadata": {},
   "source": [
    "The hard question is whether we can prove that this program terminates\n",
    "for all positive values of n. So far, no one has\n",
    "been able to prove it or disprove it! (See\n",
    "http://en.wikipedia.org/wiki/Collatz_conjecture.)"
   ]
  },
  {
   "cell_type": "markdown",
   "metadata": {},
   "source": [
    "As an exercise, rewrite the function print_n from\n",
    "Section 5.8 using iteration instead of recursion."
   ]
  },
  {
   "cell_type": "markdown",
   "metadata": {},
   "source": [
    "## Bonus: Collatz conjecture sequence"
   ]
  },
  {
   "cell_type": "code",
   "execution_count": 14,
   "metadata": {},
   "outputs": [],
   "source": [
    "def collatz_sequence(x):\n",
    "    seq = [x]\n",
    "    if x < 1:\n",
    "       return []\n",
    "    while x > 1:\n",
    "       if x % 2 == 0:\n",
    "         x = x / 2\n",
    "       else:\n",
    "         x = 3 * x + 1 \n",
    "       seq.append(x)\n",
    "    return seq"
   ]
  },
  {
   "cell_type": "code",
   "execution_count": 15,
   "metadata": {},
   "outputs": [
    {
     "data": {
      "text/plain": [
       "[5, 16, 8.0, 4.0, 2.0, 1.0]"
      ]
     },
     "execution_count": 15,
     "metadata": {},
     "output_type": "execute_result"
    }
   ],
   "source": [
    "collatz_sequence(5)"
   ]
  },
  {
   "cell_type": "markdown",
   "metadata": {},
   "source": [
    "\n",
    "![alt text](https://wikimedia.org/api/rest_v1/media/math/render/svg/ec22031bdc2a1ab2e4effe47ae75a836e7dea459)"
   ]
  },
  {
   "cell_type": "markdown",
   "metadata": {},
   "source": [
    "## Resources\n",
    "\n",
    "* [Project Euler is a series of challenging mathematical/computer programming problems ](https://projecteuler.net/)\n",
    "* [Collatz Conjecture in Color - Numberphile](https://www.youtube.com/watch?v=LqKpkdRRLZw)"
   ]
  },
  {
   "cell_type": "markdown",
   "metadata": {},
   "source": [
    "## 7.4 break"
   ]
  },
  {
   "cell_type": "markdown",
   "metadata": {},
   "source": [
    "Sometimes you don’t know it’s time to end a loop until you get half\n",
    "way through the body. In that case you can use the break\n",
    "statement to jump out of the loop."
   ]
  },
  {
   "cell_type": "markdown",
   "metadata": {},
   "source": [
    "For example, suppose you want to take input from the user until they\n",
    "type done. You could write:"
   ]
  },
  {
   "cell_type": "code",
   "execution_count": 16,
   "metadata": {},
   "outputs": [
    {
     "name": "stdout",
     "output_type": "stream",
     "text": [
      "> d\n",
      "d\n",
      "> wed\n",
      "wed\n",
      "> done\n",
      "Done!\n"
     ]
    }
   ],
   "source": [
    "while True:\n",
    "    line = input('> ')\n",
    "    if line == 'done':\n",
    "        break\n",
    "    print(line)\n",
    "\n",
    "print('Done!')"
   ]
  },
  {
   "cell_type": "markdown",
   "metadata": {},
   "source": [
    "\n",
    "The loop condition is True, which is always true, so the\n",
    "loop runs until it hits the break statement."
   ]
  },
  {
   "cell_type": "markdown",
   "metadata": {},
   "source": [
    "Each time through, it prompts the user with an angle bracket.\n",
    "If the user types done, the break statement exits\n",
    "the loop. Otherwise the program echoes whatever the user types\n",
    "and goes back to the top of the loop. Here’s a sample run:"
   ]
  },
  {
   "cell_type": "code",
   "execution_count": null,
   "metadata": {},
   "outputs": [],
   "source": [
    "> not done\n",
    "not done\n",
    "> done\n",
    "Done!"
   ]
  },
  {
   "cell_type": "markdown",
   "metadata": {},
   "source": [
    "\n",
    "This way of writing while loops is common because you\n",
    "can check the condition anywhere in the loop (not just at the\n",
    "top) and you can express the stop condition affirmatively\n",
    "(“stop when this happens”) rather than negatively (“keep going\n",
    "until that happens”)."
   ]
  },
  {
   "cell_type": "markdown",
   "metadata": {},
   "source": [
    "## 7.5 Square roots"
   ]
  },
  {
   "cell_type": "markdown",
   "metadata": {},
   "source": [
    "Loops are often used in programs that compute\n",
    "numerical results by starting with an approximate answer and\n",
    "iteratively improving it.\n"
   ]
  },
  {
   "cell_type": "markdown",
   "metadata": {},
   "source": [
    "For example, one way of computing square roots is Newton’s method.\n",
    "Suppose that you want to know the square root of a. If you start\n",
    "with almost any estimate, x, you can compute a better\n",
    "estimate with the following formula:"
   ]
  },
  {
   "cell_type": "markdown",
   "metadata": {},
   "source": [
    "\n",
    "For example, if a is 4 and x is 3:"
   ]
  },
  {
   "cell_type": "code",
   "execution_count": 17,
   "metadata": {},
   "outputs": [
    {
     "data": {
      "text/plain": [
       "2.1666666666666665"
      ]
     },
     "execution_count": 17,
     "metadata": {},
     "output_type": "execute_result"
    }
   ],
   "source": [
    "a = 4\n",
    "x = 3\n",
    "y = (x + a/x) / 2\n",
    "y"
   ]
  },
  {
   "cell_type": "markdown",
   "metadata": {},
   "source": [
    "\n",
    "The result is closer to the correct answer (√4 = 2). If we\n",
    "repeat the process with the new estimate, it gets even closer:"
   ]
  },
  {
   "cell_type": "code",
   "execution_count": 18,
   "metadata": {},
   "outputs": [
    {
     "data": {
      "text/plain": [
       "2.0064102564102564"
      ]
     },
     "execution_count": 18,
     "metadata": {},
     "output_type": "execute_result"
    }
   ],
   "source": [
    "x = y\n",
    "y = (x + a/x) / 2\n",
    "y"
   ]
  },
  {
   "cell_type": "markdown",
   "metadata": {},
   "source": [
    "\n",
    "After a few more updates, the estimate is almost exact:\n"
   ]
  },
  {
   "cell_type": "code",
   "execution_count": 19,
   "metadata": {},
   "outputs": [
    {
     "data": {
      "text/plain": [
       "2.0000102400262145"
      ]
     },
     "execution_count": 19,
     "metadata": {},
     "output_type": "execute_result"
    }
   ],
   "source": [
    "x = y\n",
    "y = (x + a/x) / 2\n",
    "y"
   ]
  },
  {
   "cell_type": "code",
   "execution_count": 20,
   "metadata": {},
   "outputs": [
    {
     "data": {
      "text/plain": [
       "2.0000000000262146"
      ]
     },
     "execution_count": 20,
     "metadata": {},
     "output_type": "execute_result"
    }
   ],
   "source": [
    "x = y\n",
    "y = (x + a/x) / 2\n",
    "y"
   ]
  },
  {
   "cell_type": "markdown",
   "metadata": {},
   "source": [
    "\n",
    "In general we don’t know ahead of time how many steps it takes\n",
    "to get to the right answer, but we know when we get there\n",
    "because the estimate\n",
    "stops changing:"
   ]
  },
  {
   "cell_type": "code",
   "execution_count": 21,
   "metadata": {},
   "outputs": [
    {
     "data": {
      "text/plain": [
       "2.0"
      ]
     },
     "execution_count": 21,
     "metadata": {},
     "output_type": "execute_result"
    }
   ],
   "source": [
    "x = y\n",
    "y = (x + a/x) / 2\n",
    "y"
   ]
  },
  {
   "cell_type": "code",
   "execution_count": 22,
   "metadata": {},
   "outputs": [
    {
     "data": {
      "text/plain": [
       "2.0"
      ]
     },
     "execution_count": 22,
     "metadata": {},
     "output_type": "execute_result"
    }
   ],
   "source": [
    "x = y\n",
    "y = (x + a/x) / 2\n",
    "y"
   ]
  },
  {
   "cell_type": "markdown",
   "metadata": {},
   "source": [
    "\n",
    "When y == x, we can stop. Here is a loop that starts\n",
    "with an initial estimate, x, and improves it until it\n",
    "stops changing:"
   ]
  },
  {
   "cell_type": "code",
   "execution_count": null,
   "metadata": {},
   "outputs": [],
   "source": [
    "while True:\n",
    "    print(x)\n",
    "    y = (x + a/x) / 2\n",
    "    if y == x:\n",
    "        break\n",
    "    x = y"
   ]
  },
  {
   "cell_type": "markdown",
   "metadata": {},
   "source": [
    "\n",
    "For most values of a this works fine, but in general it is\n",
    "dangerous to test float equality.\n",
    "Floating-point values are only approximately right:\n",
    "most rational numbers, like 1/3, and irrational numbers, like\n",
    "√2, can’t be represented exactly with a float.\n",
    "\n"
   ]
  },
  {
   "cell_type": "markdown",
   "metadata": {},
   "source": [
    "Rather than checking whether x and y are exactly equal, it\n",
    "is safer to use the built-in function abs to compute the\n",
    "absolute value, or magnitude, of the difference between them:"
   ]
  },
  {
   "cell_type": "code",
   "execution_count": null,
   "metadata": {},
   "outputs": [],
   "source": [
    "    if abs(y-x) < epsilon:\n",
    "        break"
   ]
  },
  {
   "cell_type": "markdown",
   "metadata": {},
   "source": [
    "\n",
    "Where epsilon has a value like 0.0000001 that\n",
    "determines how close is close enough."
   ]
  },
  {
   "cell_type": "markdown",
   "metadata": {},
   "source": [
    "## 7.6 Algorithms"
   ]
  },
  {
   "cell_type": "markdown",
   "metadata": {},
   "source": [
    "Newton’s method is an example of an algorithm: it is a\n",
    "mechanical process for solving a category of problems (in this\n",
    "case, computing square roots)."
   ]
  },
  {
   "cell_type": "markdown",
   "metadata": {},
   "source": [
    "To understand what an algorithm is, it might help to start with\n",
    "something that is not an algorithm. When you learned to multiply\n",
    "single-digit numbers, you probably memorized the multiplication table.\n",
    "In effect, you memorized 100 specific solutions. That kind of\n",
    "knowledge is not algorithmic."
   ]
  },
  {
   "cell_type": "markdown",
   "metadata": {},
   "source": [
    "But if you were “lazy”, you might have learned a few\n",
    "tricks. For example, to find the product of n and 9, you can\n",
    "write n−1 as the first digit and 10−n as the second\n",
    "digit. This trick is a general solution for multiplying any\n",
    "single-digit number by 9. That’s an algorithm!\n",
    "\n",
    "\n",
    "\n"
   ]
  },
  {
   "cell_type": "markdown",
   "metadata": {},
   "source": [
    "Similarly, the techniques you learned for addition with carrying,\n",
    "subtraction with borrowing, and long division are all algorithms. One\n",
    "of the characteristics of algorithms is that they do not require any\n",
    "intelligence to carry out. They are mechanical processes where\n",
    "each step follows from the last according to a simple set of rules."
   ]
  },
  {
   "cell_type": "markdown",
   "metadata": {},
   "source": [
    "Executing algorithms is boring, but designing them is interesting,\n",
    "intellectually challenging, and a central part of computer science."
   ]
  },
  {
   "cell_type": "markdown",
   "metadata": {},
   "source": [
    "Some of the things that people do naturally, without difficulty or\n",
    "conscious thought, are the hardest to express algorithmically.\n",
    "Understanding natural language is a good example. We all do it, but\n",
    "so far no one has been able to explain how we do it, at least\n",
    "not in the form of an algorithm."
   ]
  },
  {
   "cell_type": "markdown",
   "metadata": {},
   "source": [
    "## 7.7 Debugging"
   ]
  },
  {
   "cell_type": "markdown",
   "metadata": {},
   "source": [
    "As you start writing bigger programs, you might find yourself\n",
    "spending more time debugging. More code means more chances to\n",
    "make an error and more places for bugs to hide.\n",
    "\n"
   ]
  },
  {
   "cell_type": "markdown",
   "metadata": {},
   "source": [
    "One way to cut your debugging time is “debugging by bisection”.\n",
    "For example, if there are 100 lines in your program and you\n",
    "check them one at a time, it would take 100 steps."
   ]
  },
  {
   "cell_type": "markdown",
   "metadata": {},
   "source": [
    "Instead, try to break the problem in half. Look at the middle\n",
    "of the program, or near it, for an intermediate value you\n",
    "can check. Add a print statement (or something else\n",
    "that has a verifiable effect) and run the program."
   ]
  },
  {
   "cell_type": "markdown",
   "metadata": {},
   "source": [
    "If the mid-point check is incorrect, there must be a problem in the\n",
    "first half of the program. If it is correct, the problem is\n",
    "in the second half."
   ]
  },
  {
   "cell_type": "markdown",
   "metadata": {},
   "source": [
    "Every time you perform a check like this, you halve the number of\n",
    "lines you have to search. After six steps (which is fewer than 100),\n",
    "you would be down to one or two lines of code, at least in theory."
   ]
  },
  {
   "cell_type": "markdown",
   "metadata": {},
   "source": [
    "In practice it is not always clear what\n",
    "the “middle of the program” is and not always possible to\n",
    "check it. It doesn’t make sense to count lines and find the\n",
    "exact midpoint. Instead, think about places\n",
    "in the program where there might be errors and places where it\n",
    "is easy to put a check. Then choose a spot where you\n",
    "think the chances are about the same that the bug is before\n",
    "or after the check."
   ]
  }
 ],
 "metadata": {
  "kernelspec": {
   "display_name": "Python 3",
   "language": "python",
   "name": "python3"
  },
  "language_info": {
   "codemirror_mode": {
    "name": "ipython",
    "version": 3
   },
   "file_extension": ".py",
   "mimetype": "text/x-python",
   "name": "python",
   "nbconvert_exporter": "python",
   "pygments_lexer": "ipython3",
   "version": "3.6.9"
  }
 },
 "nbformat": 4,
 "nbformat_minor": 2
}
