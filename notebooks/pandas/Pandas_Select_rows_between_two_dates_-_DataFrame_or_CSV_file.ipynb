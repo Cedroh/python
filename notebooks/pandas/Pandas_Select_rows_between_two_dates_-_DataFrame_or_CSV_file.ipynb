{
 "cells": [
  {
   "cell_type": "markdown",
   "metadata": {},
   "source": [
    "# Pandas : Select rows between two dates - DataFrame or CSV file"
   ]
  },
  {
   "cell_type": "markdown",
   "metadata": {},
   "source": [
    "## Resources\n",
    "\n",
    "* [pandas.to_datetime](https://pandas.pydata.org/pandas-docs/stable/reference/api/pandas.to_datetime.html)\n",
    "* [pandas.DataFrame.between_time](https://pandas.pydata.org/pandas-docs/version/0.23.4/generated/pandas.DataFrame.between_time.html)\n",
    "* [pandas.DataFrame.loc](https://pandas.pydata.org/pandas-docs/stable/reference/api/pandas.DataFrame.loc.html)"
   ]
  },
  {
   "cell_type": "markdown",
   "metadata": {},
   "source": [
    "## Use cases\n",
    "\n",
    "* Pandas: Verify columns containing dates\n",
    "* Convert string to datetime in DataFrame\n",
    "* Select rows between two dates\n",
    "    * 1. Select rows based on dates with loc\n",
    "    * 2. Series method between\n",
    "    * 3. Select rows between two times\n",
    "    * 4. Select rows based on dates without loc\n",
    "    * 5. Use mask to mark the records\n",
    "    * 6. Select records from last month/30 days "
   ]
  },
  {
   "cell_type": "markdown",
   "metadata": {},
   "source": [
    "## Step 1: Import Pandas and read data"
   ]
  },
  {
   "cell_type": "code",
   "execution_count": 1,
   "metadata": {},
   "outputs": [
    {
     "data": {
      "text/html": [
       "<div>\n",
       "<style scoped>\n",
       "    .dataframe tbody tr th:only-of-type {\n",
       "        vertical-align: middle;\n",
       "    }\n",
       "\n",
       "    .dataframe tbody tr th {\n",
       "        vertical-align: top;\n",
       "    }\n",
       "\n",
       "    .dataframe thead th {\n",
       "        text-align: right;\n",
       "    }\n",
       "</style>\n",
       "<table border=\"1\" class=\"dataframe\">\n",
       "  <thead>\n",
       "    <tr style=\"text-align: right;\">\n",
       "      <th></th>\n",
       "      <th>loading_datetime</th>\n",
       "      <th>pages</th>\n",
       "      <th>title</th>\n",
       "      <th>datetime_col</th>\n",
       "    </tr>\n",
       "  </thead>\n",
       "  <tbody>\n",
       "    <tr>\n",
       "      <th>0</th>\n",
       "      <td>2019-10-28 19:56:03</td>\n",
       "      <td>main</td>\n",
       "      <td>&lt;GET https://www.wikipedia.org/&gt; (The Free En...</td>\n",
       "      <td>2019-10-29 9:06:03</td>\n",
       "    </tr>\n",
       "    <tr>\n",
       "      <th>1</th>\n",
       "      <td>2019-10-29 19:56:03</td>\n",
       "      <td>english</td>\n",
       "      <td>&lt;GET https://en.wikipedia.org/wiki/Main_Page&gt;...</td>\n",
       "      <td>2019-10-31 11:16:43</td>\n",
       "    </tr>\n",
       "    <tr>\n",
       "      <th>2</th>\n",
       "      <td>2019-10-29 19:56:03</td>\n",
       "      <td>italiano</td>\n",
       "      <td>&lt;GET https://it.wikipedia.org/wiki/Pagina_pri...</td>\n",
       "      <td>2019-10-30 21:15:23</td>\n",
       "    </tr>\n",
       "    <tr>\n",
       "      <th>3</th>\n",
       "      <td>2019-10-30 19:56:03</td>\n",
       "      <td>português</td>\n",
       "      <td>&lt;GET https://pt.wikipedia.org/wiki/Wikip%C3%A...</td>\n",
       "      <td>2019-10-30 20:26:35</td>\n",
       "    </tr>\n",
       "  </tbody>\n",
       "</table>\n",
       "</div>"
      ],
      "text/plain": [
       "      loading_datetime       pages  \\\n",
       "0  2019-10-28 19:56:03        main   \n",
       "1  2019-10-29 19:56:03     english   \n",
       "2  2019-10-29 19:56:03    italiano   \n",
       "3  2019-10-30 19:56:03   português   \n",
       "\n",
       "                                               title          datetime_col  \n",
       "0   <GET https://www.wikipedia.org/> (The Free En...    2019-10-29 9:06:03  \n",
       "1   <GET https://en.wikipedia.org/wiki/Main_Page>...   2019-10-31 11:16:43  \n",
       "2   <GET https://it.wikipedia.org/wiki/Pagina_pri...   2019-10-30 21:15:23  \n",
       "3   <GET https://pt.wikipedia.org/wiki/Wikip%C3%A...   2019-10-30 20:26:35  "
      ]
     },
     "execution_count": 1,
     "metadata": {},
     "output_type": "execute_result"
    }
   ],
   "source": [
    "import pandas as pd\n",
    "df = pd.read_csv(\"../csv/data.csv\")\n",
    "df"
   ]
  },
  {
   "cell_type": "markdown",
   "metadata": {},
   "source": [
    "## Step 2: Pandas: Verify columns containing dates"
   ]
  },
  {
   "cell_type": "code",
   "execution_count": 2,
   "metadata": {},
   "outputs": [
    {
     "data": {
      "text/plain": [
       "loading_datetime    object\n",
       "pages               object\n",
       "title               object\n",
       "datetime_col        object\n",
       "dtype: object"
      ]
     },
     "execution_count": 2,
     "metadata": {},
     "output_type": "execute_result"
    }
   ],
   "source": [
    "df.dtypes"
   ]
  },
  {
   "cell_type": "code",
   "execution_count": 3,
   "metadata": {},
   "outputs": [
    {
     "data": {
      "text/plain": [
       "0      2019-10-29 9:06:03\n",
       "1     2019-10-31 11:16:43\n",
       "2     2019-10-30 21:15:23\n",
       "3     2019-10-30 20:26:35\n",
       "Name: datetime_col, dtype: object"
      ]
     },
     "execution_count": 3,
     "metadata": {},
     "output_type": "execute_result"
    }
   ],
   "source": [
    "df.datetime_col"
   ]
  },
  {
   "cell_type": "code",
   "execution_count": 4,
   "metadata": {},
   "outputs": [],
   "source": [
    "dateCols = ['loading_datetime']\n",
    "df = pd.read_csv(\"../csv/data.csv\", parse_dates=dateCols)"
   ]
  },
  {
   "cell_type": "code",
   "execution_count": 5,
   "metadata": {},
   "outputs": [
    {
     "data": {
      "text/plain": [
       "loading_datetime    datetime64[ns]\n",
       "pages                       object\n",
       "title                       object\n",
       "datetime_col                object\n",
       "dtype: object"
      ]
     },
     "execution_count": 5,
     "metadata": {},
     "output_type": "execute_result"
    }
   ],
   "source": [
    "df.dtypes"
   ]
  },
  {
   "cell_type": "markdown",
   "metadata": {},
   "source": [
    "## Step 3: Convert string to datetime in DataFrame"
   ]
  },
  {
   "cell_type": "code",
   "execution_count": 6,
   "metadata": {},
   "outputs": [],
   "source": [
    "df.datetime_col=pd.to_datetime(df.datetime_col)"
   ]
  },
  {
   "cell_type": "code",
   "execution_count": 7,
   "metadata": {},
   "outputs": [
    {
     "data": {
      "text/plain": [
       "loading_datetime    datetime64[ns]\n",
       "pages                       object\n",
       "title                       object\n",
       "datetime_col        datetime64[ns]\n",
       "dtype: object"
      ]
     },
     "execution_count": 7,
     "metadata": {},
     "output_type": "execute_result"
    }
   ],
   "source": [
    "df.dtypes"
   ]
  },
  {
   "cell_type": "code",
   "execution_count": 8,
   "metadata": {},
   "outputs": [],
   "source": [
    "df.datetime_col=pd.to_datetime(df.datetime_col, utc=True)"
   ]
  },
  {
   "cell_type": "code",
   "execution_count": 9,
   "metadata": {},
   "outputs": [
    {
     "data": {
      "text/plain": [
       "loading_datetime         datetime64[ns]\n",
       "pages                            object\n",
       "title                            object\n",
       "datetime_col        datetime64[ns, UTC]\n",
       "dtype: object"
      ]
     },
     "execution_count": 9,
     "metadata": {},
     "output_type": "execute_result"
    }
   ],
   "source": [
    "df.dtypes"
   ]
  },
  {
   "cell_type": "markdown",
   "metadata": {},
   "source": [
    "## Step 4: Select rows between two dates"
   ]
  },
  {
   "cell_type": "markdown",
   "metadata": {},
   "source": [
    "#### 1. Select rows based on dates with loc"
   ]
  },
  {
   "cell_type": "code",
   "execution_count": 10,
   "metadata": {},
   "outputs": [
    {
     "data": {
      "text/html": [
       "<div>\n",
       "<style scoped>\n",
       "    .dataframe tbody tr th:only-of-type {\n",
       "        vertical-align: middle;\n",
       "    }\n",
       "\n",
       "    .dataframe tbody tr th {\n",
       "        vertical-align: top;\n",
       "    }\n",
       "\n",
       "    .dataframe thead th {\n",
       "        text-align: right;\n",
       "    }\n",
       "</style>\n",
       "<table border=\"1\" class=\"dataframe\">\n",
       "  <thead>\n",
       "    <tr style=\"text-align: right;\">\n",
       "      <th></th>\n",
       "      <th>loading_datetime</th>\n",
       "      <th>pages</th>\n",
       "      <th>title</th>\n",
       "      <th>datetime_col</th>\n",
       "    </tr>\n",
       "  </thead>\n",
       "  <tbody>\n",
       "    <tr>\n",
       "      <th>1</th>\n",
       "      <td>2019-10-29 19:56:03</td>\n",
       "      <td>english</td>\n",
       "      <td>&lt;GET https://en.wikipedia.org/wiki/Main_Page&gt;...</td>\n",
       "      <td>2019-10-31 11:16:43+00:00</td>\n",
       "    </tr>\n",
       "    <tr>\n",
       "      <th>2</th>\n",
       "      <td>2019-10-29 19:56:03</td>\n",
       "      <td>italiano</td>\n",
       "      <td>&lt;GET https://it.wikipedia.org/wiki/Pagina_pri...</td>\n",
       "      <td>2019-10-30 21:15:23+00:00</td>\n",
       "    </tr>\n",
       "  </tbody>\n",
       "</table>\n",
       "</div>"
      ],
      "text/plain": [
       "     loading_datetime      pages  \\\n",
       "1 2019-10-29 19:56:03    english   \n",
       "2 2019-10-29 19:56:03   italiano   \n",
       "\n",
       "                                               title              datetime_col  \n",
       "1   <GET https://en.wikipedia.org/wiki/Main_Page>... 2019-10-31 11:16:43+00:00  \n",
       "2   <GET https://it.wikipedia.org/wiki/Pagina_pri... 2019-10-30 21:15:23+00:00  "
      ]
     },
     "execution_count": 10,
     "metadata": {},
     "output_type": "execute_result"
    }
   ],
   "source": [
    "start_date = pd.to_datetime('2019-10-30 20:41', utc= True)\n",
    "end_date = pd.to_datetime('5/13/2020 8:55', utc= True)\n",
    "\n",
    "df.loc[(df['datetime_col'] > start_date) & (df['datetime_col'] < end_date)]"
   ]
  },
  {
   "cell_type": "markdown",
   "metadata": {},
   "source": [
    "#### 2.  Series method between"
   ]
  },
  {
   "cell_type": "code",
   "execution_count": null,
   "metadata": {},
   "outputs": [],
   "source": [
    "start_date = pd.to_datetime('2019-10-30 20:41', utc= True)\n",
    "end_date = pd.to_datetime('5/13/2020 8:55', utc= True)\n",
    "\n",
    "df[df.datetime_col.between(start_date, end_date)]"
   ]
  },
  {
   "cell_type": "markdown",
   "metadata": {},
   "source": [
    "#### 3. Select rows between two times"
   ]
  },
  {
   "cell_type": "code",
   "execution_count": 11,
   "metadata": {},
   "outputs": [
    {
     "data": {
      "text/html": [
       "<div>\n",
       "<style scoped>\n",
       "    .dataframe tbody tr th:only-of-type {\n",
       "        vertical-align: middle;\n",
       "    }\n",
       "\n",
       "    .dataframe tbody tr th {\n",
       "        vertical-align: top;\n",
       "    }\n",
       "\n",
       "    .dataframe thead th {\n",
       "        text-align: right;\n",
       "    }\n",
       "</style>\n",
       "<table border=\"1\" class=\"dataframe\">\n",
       "  <thead>\n",
       "    <tr style=\"text-align: right;\">\n",
       "      <th></th>\n",
       "      <th>loading_datetime</th>\n",
       "      <th>pages</th>\n",
       "      <th>title</th>\n",
       "    </tr>\n",
       "    <tr>\n",
       "      <th>datetime_col</th>\n",
       "      <th></th>\n",
       "      <th></th>\n",
       "      <th></th>\n",
       "    </tr>\n",
       "  </thead>\n",
       "  <tbody>\n",
       "    <tr>\n",
       "      <th>2019-10-30 21:15:23+00:00</th>\n",
       "      <td>2019-10-29 19:56:03</td>\n",
       "      <td>italiano</td>\n",
       "      <td>&lt;GET https://it.wikipedia.org/wiki/Pagina_pri...</td>\n",
       "    </tr>\n",
       "  </tbody>\n",
       "</table>\n",
       "</div>"
      ],
      "text/plain": [
       "                             loading_datetime      pages  \\\n",
       "datetime_col                                               \n",
       "2019-10-30 21:15:23+00:00 2019-10-29 19:56:03   italiano   \n",
       "\n",
       "                                                                       title  \n",
       "datetime_col                                                                  \n",
       "2019-10-30 21:15:23+00:00   <GET https://it.wikipedia.org/wiki/Pagina_pri...  "
      ]
     },
     "execution_count": 11,
     "metadata": {},
     "output_type": "execute_result"
    }
   ],
   "source": [
    "df2 = df.copy()\n",
    "df2 = df2.set_index(['datetime_col'])\n",
    "df2.between_time('21:10', '23:50')"
   ]
  },
  {
   "cell_type": "markdown",
   "metadata": {},
   "source": [
    "#### 4. Select rows based on dates without loc"
   ]
  },
  {
   "cell_type": "code",
   "execution_count": null,
   "metadata": {},
   "outputs": [],
   "source": [
    "df[(df['datetime_col'] > '2018-12-02') & (df['datetime_col'] <= '2018-12-03 23:26:10+00:00')]"
   ]
  },
  {
   "cell_type": "markdown",
   "metadata": {},
   "source": [
    "#### 6. Select records from last month/30 days "
   ]
  },
  {
   "cell_type": "code",
   "execution_count": 12,
   "metadata": {},
   "outputs": [
    {
     "data": {
      "text/html": [
       "<div>\n",
       "<style scoped>\n",
       "    .dataframe tbody tr th:only-of-type {\n",
       "        vertical-align: middle;\n",
       "    }\n",
       "\n",
       "    .dataframe tbody tr th {\n",
       "        vertical-align: top;\n",
       "    }\n",
       "\n",
       "    .dataframe thead th {\n",
       "        text-align: right;\n",
       "    }\n",
       "</style>\n",
       "<table border=\"1\" class=\"dataframe\">\n",
       "  <thead>\n",
       "    <tr style=\"text-align: right;\">\n",
       "      <th></th>\n",
       "      <th>loading_datetime</th>\n",
       "      <th>pages</th>\n",
       "      <th>title</th>\n",
       "      <th>datetime_col</th>\n",
       "    </tr>\n",
       "  </thead>\n",
       "  <tbody>\n",
       "    <tr>\n",
       "      <th>1</th>\n",
       "      <td>2019-10-29 19:56:03</td>\n",
       "      <td>english</td>\n",
       "      <td>&lt;GET https://en.wikipedia.org/wiki/Main_Page&gt;...</td>\n",
       "      <td>2019-10-31 11:16:43+00:00</td>\n",
       "    </tr>\n",
       "  </tbody>\n",
       "</table>\n",
       "</div>"
      ],
      "text/plain": [
       "     loading_datetime     pages  \\\n",
       "1 2019-10-29 19:56:03   english   \n",
       "\n",
       "                                               title              datetime_col  \n",
       "1   <GET https://en.wikipedia.org/wiki/Main_Page>... 2019-10-31 11:16:43+00:00  "
      ]
     },
     "execution_count": 12,
     "metadata": {},
     "output_type": "execute_result"
    }
   ],
   "source": [
    "df[df[\"datetime_col\"] >= (pd.to_datetime('11/30/2019', utc=True) - pd.Timedelta(days=30))]"
   ]
  },
  {
   "cell_type": "code",
   "execution_count": null,
   "metadata": {},
   "outputs": [],
   "source": []
  }
 ],
 "metadata": {
  "kernelspec": {
   "display_name": "Python 3",
   "language": "python",
   "name": "python3"
  },
  "language_info": {
   "codemirror_mode": {
    "name": "ipython",
    "version": 3
   },
   "file_extension": ".py",
   "mimetype": "text/x-python",
   "name": "python",
   "nbconvert_exporter": "python",
   "pygments_lexer": "ipython3",
   "version": "3.6.9"
  }
 },
 "nbformat": 4,
 "nbformat_minor": 2
}
