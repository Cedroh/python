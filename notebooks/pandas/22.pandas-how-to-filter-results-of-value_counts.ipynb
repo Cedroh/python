{
 "cells": [
  {
   "cell_type": "markdown",
   "metadata": {},
   "source": [
    "# 22. Pandas How to filter results of value_counts?"
   ]
  },
  {
   "cell_type": "code",
   "execution_count": 1,
   "metadata": {},
   "outputs": [],
   "source": [
    "import pandas as pd\n",
    "df = pd.read_csv(\"../csv/movie_metadata.csv\")"
   ]
  },
  {
   "cell_type": "code",
   "execution_count": 2,
   "metadata": {},
   "outputs": [
    {
     "data": {
      "text/html": [
       "<div>\n",
       "<style scoped>\n",
       "    .dataframe tbody tr th:only-of-type {\n",
       "        vertical-align: middle;\n",
       "    }\n",
       "\n",
       "    .dataframe tbody tr th {\n",
       "        vertical-align: top;\n",
       "    }\n",
       "\n",
       "    .dataframe thead th {\n",
       "        text-align: right;\n",
       "    }\n",
       "</style>\n",
       "<table border=\"1\" class=\"dataframe\">\n",
       "  <thead>\n",
       "    <tr style=\"text-align: right;\">\n",
       "      <th></th>\n",
       "      <th>color</th>\n",
       "      <th>director_name</th>\n",
       "      <th>num_critic_for_reviews</th>\n",
       "      <th>duration</th>\n",
       "      <th>director_facebook_likes</th>\n",
       "      <th>actor_3_facebook_likes</th>\n",
       "      <th>actor_2_name</th>\n",
       "      <th>actor_1_facebook_likes</th>\n",
       "      <th>gross</th>\n",
       "      <th>genres</th>\n",
       "      <th>...</th>\n",
       "      <th>num_user_for_reviews</th>\n",
       "      <th>language</th>\n",
       "      <th>country</th>\n",
       "      <th>content_rating</th>\n",
       "      <th>budget</th>\n",
       "      <th>title_year</th>\n",
       "      <th>actor_2_facebook_likes</th>\n",
       "      <th>imdb_score</th>\n",
       "      <th>aspect_ratio</th>\n",
       "      <th>movie_facebook_likes</th>\n",
       "    </tr>\n",
       "  </thead>\n",
       "  <tbody>\n",
       "    <tr>\n",
       "      <th>0</th>\n",
       "      <td>Color</td>\n",
       "      <td>James Cameron</td>\n",
       "      <td>723.0</td>\n",
       "      <td>178.0</td>\n",
       "      <td>0.0</td>\n",
       "      <td>855.0</td>\n",
       "      <td>Joel David Moore</td>\n",
       "      <td>1000.0</td>\n",
       "      <td>760505847.0</td>\n",
       "      <td>Action|Adventure|Fantasy|Sci-Fi</td>\n",
       "      <td>...</td>\n",
       "      <td>3054.0</td>\n",
       "      <td>English</td>\n",
       "      <td>USA</td>\n",
       "      <td>PG-13</td>\n",
       "      <td>237000000.0</td>\n",
       "      <td>2009.0</td>\n",
       "      <td>936.0</td>\n",
       "      <td>7.9</td>\n",
       "      <td>1.78</td>\n",
       "      <td>33000</td>\n",
       "    </tr>\n",
       "    <tr>\n",
       "      <th>1</th>\n",
       "      <td>Color</td>\n",
       "      <td>Gore Verbinski</td>\n",
       "      <td>302.0</td>\n",
       "      <td>169.0</td>\n",
       "      <td>563.0</td>\n",
       "      <td>1000.0</td>\n",
       "      <td>Orlando Bloom</td>\n",
       "      <td>40000.0</td>\n",
       "      <td>309404152.0</td>\n",
       "      <td>Action|Adventure|Fantasy</td>\n",
       "      <td>...</td>\n",
       "      <td>1238.0</td>\n",
       "      <td>English</td>\n",
       "      <td>USA</td>\n",
       "      <td>PG-13</td>\n",
       "      <td>300000000.0</td>\n",
       "      <td>2007.0</td>\n",
       "      <td>5000.0</td>\n",
       "      <td>7.1</td>\n",
       "      <td>2.35</td>\n",
       "      <td>0</td>\n",
       "    </tr>\n",
       "  </tbody>\n",
       "</table>\n",
       "<p>2 rows × 28 columns</p>\n",
       "</div>"
      ],
      "text/plain": [
       "   color   director_name  num_critic_for_reviews  duration  \\\n",
       "0  Color   James Cameron                   723.0     178.0   \n",
       "1  Color  Gore Verbinski                   302.0     169.0   \n",
       "\n",
       "   director_facebook_likes  actor_3_facebook_likes      actor_2_name  \\\n",
       "0                      0.0                   855.0  Joel David Moore   \n",
       "1                    563.0                  1000.0     Orlando Bloom   \n",
       "\n",
       "   actor_1_facebook_likes        gross                           genres  ...  \\\n",
       "0                  1000.0  760505847.0  Action|Adventure|Fantasy|Sci-Fi  ...   \n",
       "1                 40000.0  309404152.0         Action|Adventure|Fantasy  ...   \n",
       "\n",
       "  num_user_for_reviews language  country  content_rating       budget  \\\n",
       "0               3054.0  English      USA           PG-13  237000000.0   \n",
       "1               1238.0  English      USA           PG-13  300000000.0   \n",
       "\n",
       "   title_year actor_2_facebook_likes imdb_score  aspect_ratio  \\\n",
       "0      2009.0                  936.0        7.9          1.78   \n",
       "1      2007.0                 5000.0        7.1          2.35   \n",
       "\n",
       "  movie_facebook_likes  \n",
       "0                33000  \n",
       "1                    0  \n",
       "\n",
       "[2 rows x 28 columns]"
      ]
     },
     "execution_count": 2,
     "metadata": {},
     "output_type": "execute_result"
    }
   ],
   "source": [
    "# sample of the data\n",
    "df.head(2)"
   ]
  },
  {
   "cell_type": "markdown",
   "metadata": {},
   "source": [
    "## 1. How value counts works"
   ]
  },
  {
   "cell_type": "code",
   "execution_count": 3,
   "metadata": {},
   "outputs": [
    {
     "data": {
      "text/plain": [
       "0       English\n",
       "1       English\n",
       "2       English\n",
       "3       English\n",
       "4           NaN\n",
       "         ...   \n",
       "5038    English\n",
       "5039    English\n",
       "5040    English\n",
       "5041    English\n",
       "5042    English\n",
       "Name: language, Length: 5043, dtype: object"
      ]
     },
     "execution_count": 3,
     "metadata": {},
     "output_type": "execute_result"
    }
   ],
   "source": [
    "col = 'language'\n",
    "df[col]"
   ]
  },
  {
   "cell_type": "code",
   "execution_count": 7,
   "metadata": {},
   "outputs": [
    {
     "data": {
      "text/plain": [
       "English       4704\n",
       "French          73\n",
       "Spanish         40\n",
       "Hindi           28\n",
       "Mandarin        26\n",
       "German          19\n",
       "Japanese        18\n",
       "Russian         11\n",
       "Cantonese       11\n",
       "Italian         11\n",
       "Portuguese       8\n",
       "Korean           8\n",
       "Arabic           5\n",
       "Hebrew           5\n",
       "Swedish          5\n",
       "Danish           5\n",
       "Persian          4\n",
       "Norwegian        4\n",
       "Polish           4\n",
       "Dutch            4\n",
       "Chinese          3\n",
       "Thai             3\n",
       "Icelandic        2\n",
       "Dari             2\n",
       "Zulu             2\n",
       "None             2\n",
       "Romanian         2\n",
       "Aboriginal       2\n",
       "Indonesian       2\n",
       "Panjabi          1\n",
       "Kazakh           1\n",
       "Kannada          1\n",
       "Aramaic          1\n",
       "Urdu             1\n",
       "Dzongkha         1\n",
       "Czech            1\n",
       "Tamil            1\n",
       "Bosnian          1\n",
       "Telugu           1\n",
       "Hungarian        1\n",
       "Filipino         1\n",
       "Mongolian        1\n",
       "Slovenian        1\n",
       "Greek            1\n",
       "Vietnamese       1\n",
       "Maya             1\n",
       "Swahili          1\n",
       "Name: language, dtype: int64"
      ]
     },
     "execution_count": 7,
     "metadata": {},
     "output_type": "execute_result"
    }
   ],
   "source": [
    "df[col].value_counts()"
   ]
  },
  {
   "cell_type": "code",
   "execution_count": 8,
   "metadata": {},
   "outputs": [
    {
     "data": {
      "text/plain": [
       "dtype('int64')"
      ]
     },
     "execution_count": 8,
     "metadata": {},
     "output_type": "execute_result"
    }
   ],
   "source": [
    "df[col].value_counts().dtypes"
   ]
  },
  {
   "cell_type": "code",
   "execution_count": 9,
   "metadata": {},
   "outputs": [
    {
     "data": {
      "text/plain": [
       "array([4704,   73,   40,   28,   26,   19,   18,   11,   11,   11,    8,\n",
       "          8,    5,    5,    5,    5,    4,    4,    4,    4,    3,    3,\n",
       "          2,    2,    2,    2,    2,    2,    2,    1,    1,    1,    1,\n",
       "          1,    1,    1,    1,    1,    1,    1,    1,    1,    1,    1,\n",
       "          1,    1,    1])"
      ]
     },
     "execution_count": 9,
     "metadata": {},
     "output_type": "execute_result"
    }
   ],
   "source": [
    "df[col].value_counts().values"
   ]
  },
  {
   "cell_type": "code",
   "execution_count": 10,
   "metadata": {},
   "outputs": [
    {
     "data": {
      "text/plain": [
       "Index(['English', 'French', 'Spanish', 'Hindi', 'Mandarin', 'German',\n",
       "       'Japanese', 'Russian', 'Cantonese', 'Italian', 'Portuguese', 'Korean',\n",
       "       'Arabic', 'Hebrew', 'Swedish', 'Danish', 'Persian', 'Norwegian',\n",
       "       'Polish', 'Dutch', 'Chinese', 'Thai', 'Icelandic', 'Dari', 'Zulu',\n",
       "       'None', 'Romanian', 'Aboriginal', 'Indonesian', 'Panjabi', 'Kazakh',\n",
       "       'Kannada', 'Aramaic', 'Urdu', 'Dzongkha', 'Czech', 'Tamil', 'Bosnian',\n",
       "       'Telugu', 'Hungarian', 'Filipino', 'Mongolian', 'Slovenian', 'Greek',\n",
       "       'Vietnamese', 'Maya', 'Swahili'],\n",
       "      dtype='object')"
      ]
     },
     "execution_count": 10,
     "metadata": {},
     "output_type": "execute_result"
    }
   ],
   "source": [
    "df[col].value_counts().index"
   ]
  },
  {
   "cell_type": "markdown",
   "metadata": {},
   "source": [
    "## 2. Filter value_counts with isin"
   ]
  },
  {
   "cell_type": "code",
   "execution_count": 12,
   "metadata": {},
   "outputs": [
    {
     "data": {
      "text/plain": [
       "2388    Chinese\n",
       "2740       Thai\n",
       "3022    Chinese\n",
       "3311       Thai\n",
       "3427    Chinese\n",
       "3659       Thai\n",
       "Name: language, dtype: object"
      ]
     },
     "execution_count": 12,
     "metadata": {},
     "output_type": "execute_result"
    }
   ],
   "source": [
    "df[df['language'].isin(df['language'].value_counts()[df['language'].value_counts()==3].index)].language"
   ]
  },
  {
   "cell_type": "code",
   "execution_count": 11,
   "metadata": {},
   "outputs": [
    {
     "data": {
      "text/plain": [
       "0        True\n",
       "1        True\n",
       "2        True\n",
       "3        True\n",
       "4       False\n",
       "        ...  \n",
       "5038     True\n",
       "5039     True\n",
       "5040     True\n",
       "5041     True\n",
       "5042     True\n",
       "Name: language, Length: 5043, dtype: bool"
      ]
     },
     "execution_count": 11,
     "metadata": {},
     "output_type": "execute_result"
    }
   ],
   "source": [
    "df[col].isin(df[col].value_counts().index)"
   ]
  },
  {
   "cell_type": "code",
   "execution_count": 22,
   "metadata": {},
   "outputs": [
    {
     "data": {
      "text/plain": [
       "English       False\n",
       "French        False\n",
       "Spanish       False\n",
       "Hindi         False\n",
       "Mandarin      False\n",
       "German        False\n",
       "Japanese      False\n",
       "Russian       False\n",
       "Cantonese     False\n",
       "Italian       False\n",
       "Portuguese    False\n",
       "Korean        False\n",
       "Arabic        False\n",
       "Hebrew        False\n",
       "Swedish       False\n",
       "Danish        False\n",
       "Persian       False\n",
       "Norwegian     False\n",
       "Polish        False\n",
       "Dutch         False\n",
       "Chinese        True\n",
       "Thai           True\n",
       "Icelandic     False\n",
       "Dari          False\n",
       "Zulu          False\n",
       "None          False\n",
       "Romanian      False\n",
       "Aboriginal    False\n",
       "Indonesian    False\n",
       "Panjabi       False\n",
       "Kazakh        False\n",
       "Kannada       False\n",
       "Aramaic       False\n",
       "Urdu          False\n",
       "Dzongkha      False\n",
       "Czech         False\n",
       "Tamil         False\n",
       "Bosnian       False\n",
       "Telugu        False\n",
       "Hungarian     False\n",
       "Filipino      False\n",
       "Mongolian     False\n",
       "Slovenian     False\n",
       "Greek         False\n",
       "Vietnamese    False\n",
       "Maya          False\n",
       "Swahili       False\n",
       "Name: language, dtype: bool"
      ]
     },
     "execution_count": 22,
     "metadata": {},
     "output_type": "execute_result"
    }
   ],
   "source": [
    "df['language'].value_counts()==3"
   ]
  },
  {
   "cell_type": "code",
   "execution_count": 21,
   "metadata": {},
   "outputs": [
    {
     "data": {
      "text/plain": [
       "Chinese    3\n",
       "Thai       3\n",
       "Name: language, dtype: int64"
      ]
     },
     "execution_count": 21,
     "metadata": {},
     "output_type": "execute_result"
    }
   ],
   "source": [
    "df['language'].value_counts()[df['language'].value_counts()==3].index"
   ]
  },
  {
   "cell_type": "code",
   "execution_count": 13,
   "metadata": {},
   "outputs": [
    {
     "data": {
      "text/plain": [
       "0       False\n",
       "1       False\n",
       "2       False\n",
       "3       False\n",
       "4       False\n",
       "        ...  \n",
       "5038    False\n",
       "5039    False\n",
       "5040    False\n",
       "5041    False\n",
       "5042    False\n",
       "Name: language, Length: 5043, dtype: bool"
      ]
     },
     "execution_count": 13,
     "metadata": {},
     "output_type": "execute_result"
    }
   ],
   "source": [
    "df['language'].isin(df['language'].value_counts()[df['language'].value_counts()==1].index)"
   ]
  },
  {
   "cell_type": "code",
   "execution_count": 14,
   "metadata": {
    "scrolled": true
   },
   "outputs": [
    {
     "data": {
      "text/plain": [
       "2388    Chinese\n",
       "2740       Thai\n",
       "3022    Chinese\n",
       "3311       Thai\n",
       "3427    Chinese\n",
       "3659       Thai\n",
       "Name: language, dtype: object"
      ]
     },
     "execution_count": 14,
     "metadata": {},
     "output_type": "execute_result"
    }
   ],
   "source": [
    "df[df['language'].isin(df['language'].value_counts()[df['language'].value_counts()==3].index)]['language']"
   ]
  },
  {
   "cell_type": "code",
   "execution_count": 27,
   "metadata": {},
   "outputs": [
    {
     "data": {
      "text/plain": [
       "English      4704\n",
       "French         73\n",
       "Spanish        40\n",
       "Hindi          28\n",
       "Mandarin       26\n",
       "German         19\n",
       "Japanese       18\n",
       "Russian        11\n",
       "Cantonese      11\n",
       "Italian        11\n",
       "Name: language, dtype: int64"
      ]
     },
     "execution_count": 27,
     "metadata": {},
     "output_type": "execute_result"
    }
   ],
   "source": [
    "df['language'].value_counts()[df['language'].value_counts()> 10]"
   ]
  },
  {
   "cell_type": "code",
   "execution_count": 28,
   "metadata": {},
   "outputs": [
    {
     "data": {
      "text/plain": [
       "0       English\n",
       "1       English\n",
       "2       English\n",
       "3       English\n",
       "5       English\n",
       "         ...   \n",
       "5038    English\n",
       "5039    English\n",
       "5040    English\n",
       "5041    English\n",
       "5042    English\n",
       "Name: language, Length: 4941, dtype: object"
      ]
     },
     "execution_count": 28,
     "metadata": {},
     "output_type": "execute_result"
    }
   ],
   "source": [
    "df[df['language'].isin(df['language'].value_counts()[df['language'].value_counts() > 10].index)].language"
   ]
  },
  {
   "cell_type": "code",
   "execution_count": 18,
   "metadata": {},
   "outputs": [
    {
     "data": {
      "text/plain": [
       "array(['Chinese', 'Thai'], dtype=object)"
      ]
     },
     "execution_count": 18,
     "metadata": {},
     "output_type": "execute_result"
    }
   ],
   "source": [
    "df[df['language'].isin(df['language'].value_counts()[df['language'].value_counts() == 3].index)].language.unique()"
   ]
  },
  {
   "cell_type": "markdown",
   "metadata": {},
   "source": [
    "## 3. Use group by and lambda to simulate filter on value_counts()"
   ]
  },
  {
   "cell_type": "code",
   "execution_count": 32,
   "metadata": {
    "scrolled": true
   },
   "outputs": [
    {
     "data": {
      "text/html": [
       "<div>\n",
       "<style scoped>\n",
       "    .dataframe tbody tr th:only-of-type {\n",
       "        vertical-align: middle;\n",
       "    }\n",
       "\n",
       "    .dataframe tbody tr th {\n",
       "        vertical-align: top;\n",
       "    }\n",
       "\n",
       "    .dataframe thead th {\n",
       "        text-align: right;\n",
       "    }\n",
       "</style>\n",
       "<table border=\"1\" class=\"dataframe\">\n",
       "  <thead>\n",
       "    <tr style=\"text-align: right;\">\n",
       "      <th></th>\n",
       "      <th>color</th>\n",
       "      <th>director_name</th>\n",
       "      <th>num_critic_for_reviews</th>\n",
       "      <th>duration</th>\n",
       "      <th>director_facebook_likes</th>\n",
       "      <th>actor_3_facebook_likes</th>\n",
       "      <th>actor_2_name</th>\n",
       "      <th>actor_1_facebook_likes</th>\n",
       "      <th>gross</th>\n",
       "      <th>genres</th>\n",
       "      <th>...</th>\n",
       "      <th>num_user_for_reviews</th>\n",
       "      <th>language</th>\n",
       "      <th>country</th>\n",
       "      <th>content_rating</th>\n",
       "      <th>budget</th>\n",
       "      <th>title_year</th>\n",
       "      <th>actor_2_facebook_likes</th>\n",
       "      <th>imdb_score</th>\n",
       "      <th>aspect_ratio</th>\n",
       "      <th>movie_facebook_likes</th>\n",
       "    </tr>\n",
       "  </thead>\n",
       "  <tbody>\n",
       "    <tr>\n",
       "      <th>2388</th>\n",
       "      <td>Color</td>\n",
       "      <td>Danny Pang</td>\n",
       "      <td>23.0</td>\n",
       "      <td>107.0</td>\n",
       "      <td>15.0</td>\n",
       "      <td>27.0</td>\n",
       "      <td>Angelica Lee</td>\n",
       "      <td>82.0</td>\n",
       "      <td>NaN</td>\n",
       "      <td>Action</td>\n",
       "      <td>...</td>\n",
       "      <td>4.0</td>\n",
       "      <td>Chinese</td>\n",
       "      <td>China</td>\n",
       "      <td>PG-13</td>\n",
       "      <td>NaN</td>\n",
       "      <td>2013.0</td>\n",
       "      <td>39.0</td>\n",
       "      <td>5.7</td>\n",
       "      <td>1.85</td>\n",
       "      <td>124</td>\n",
       "    </tr>\n",
       "    <tr>\n",
       "      <th>2740</th>\n",
       "      <td>Color</td>\n",
       "      <td>Tony Jaa</td>\n",
       "      <td>110.0</td>\n",
       "      <td>110.0</td>\n",
       "      <td>0.0</td>\n",
       "      <td>7.0</td>\n",
       "      <td>Petchtai Wongkamlao</td>\n",
       "      <td>64.0</td>\n",
       "      <td>102055.0</td>\n",
       "      <td>Action</td>\n",
       "      <td>...</td>\n",
       "      <td>72.0</td>\n",
       "      <td>Thai</td>\n",
       "      <td>Thailand</td>\n",
       "      <td>R</td>\n",
       "      <td>300000000.0</td>\n",
       "      <td>2008.0</td>\n",
       "      <td>45.0</td>\n",
       "      <td>6.2</td>\n",
       "      <td>2.35</td>\n",
       "      <td>0</td>\n",
       "    </tr>\n",
       "    <tr>\n",
       "      <th>3022</th>\n",
       "      <td>Color</td>\n",
       "      <td>Mabel Cheung</td>\n",
       "      <td>6.0</td>\n",
       "      <td>130.0</td>\n",
       "      <td>3.0</td>\n",
       "      <td>2.0</td>\n",
       "      <td>Ching Wan Lau</td>\n",
       "      <td>215.0</td>\n",
       "      <td>NaN</td>\n",
       "      <td>Drama</td>\n",
       "      <td>...</td>\n",
       "      <td>6.0</td>\n",
       "      <td>Chinese</td>\n",
       "      <td>China</td>\n",
       "      <td>NaN</td>\n",
       "      <td>12000000.0</td>\n",
       "      <td>2015.0</td>\n",
       "      <td>27.0</td>\n",
       "      <td>6.2</td>\n",
       "      <td>2.35</td>\n",
       "      <td>4</td>\n",
       "    </tr>\n",
       "    <tr>\n",
       "      <th>3311</th>\n",
       "      <td>Color</td>\n",
       "      <td>Chatrichalerm Yukol</td>\n",
       "      <td>31.0</td>\n",
       "      <td>300.0</td>\n",
       "      <td>6.0</td>\n",
       "      <td>6.0</td>\n",
       "      <td>Chatchai Plengpanich</td>\n",
       "      <td>7.0</td>\n",
       "      <td>454255.0</td>\n",
       "      <td>Action|Adventure|Drama|History|War</td>\n",
       "      <td>...</td>\n",
       "      <td>47.0</td>\n",
       "      <td>Thai</td>\n",
       "      <td>Thailand</td>\n",
       "      <td>R</td>\n",
       "      <td>400000000.0</td>\n",
       "      <td>2001.0</td>\n",
       "      <td>6.0</td>\n",
       "      <td>6.6</td>\n",
       "      <td>1.85</td>\n",
       "      <td>124</td>\n",
       "    </tr>\n",
       "    <tr>\n",
       "      <th>3427</th>\n",
       "      <td>Color</td>\n",
       "      <td>Dennie Gordon</td>\n",
       "      <td>11.0</td>\n",
       "      <td>114.0</td>\n",
       "      <td>29.0</td>\n",
       "      <td>11.0</td>\n",
       "      <td>Ruby Lin</td>\n",
       "      <td>163.0</td>\n",
       "      <td>50000.0</td>\n",
       "      <td>Action|Adventure|Comedy|Romance</td>\n",
       "      <td>...</td>\n",
       "      <td>2.0</td>\n",
       "      <td>Chinese</td>\n",
       "      <td>China</td>\n",
       "      <td>NaN</td>\n",
       "      <td>NaN</td>\n",
       "      <td>2013.0</td>\n",
       "      <td>20.0</td>\n",
       "      <td>5.1</td>\n",
       "      <td>2.35</td>\n",
       "      <td>81</td>\n",
       "    </tr>\n",
       "    <tr>\n",
       "      <th>3659</th>\n",
       "      <td>Color</td>\n",
       "      <td>Prachya Pinkaew</td>\n",
       "      <td>112.0</td>\n",
       "      <td>111.0</td>\n",
       "      <td>64.0</td>\n",
       "      <td>380.0</td>\n",
       "      <td>Nathan Jones</td>\n",
       "      <td>778.0</td>\n",
       "      <td>11905519.0</td>\n",
       "      <td>Action|Crime|Drama|Thriller</td>\n",
       "      <td>...</td>\n",
       "      <td>214.0</td>\n",
       "      <td>Thai</td>\n",
       "      <td>Thailand</td>\n",
       "      <td>R</td>\n",
       "      <td>200000000.0</td>\n",
       "      <td>2005.0</td>\n",
       "      <td>635.0</td>\n",
       "      <td>7.1</td>\n",
       "      <td>1.85</td>\n",
       "      <td>0</td>\n",
       "    </tr>\n",
       "  </tbody>\n",
       "</table>\n",
       "<p>6 rows × 28 columns</p>\n",
       "</div>"
      ],
      "text/plain": [
       "      color        director_name  num_critic_for_reviews  duration  \\\n",
       "2388  Color           Danny Pang                    23.0     107.0   \n",
       "2740  Color             Tony Jaa                   110.0     110.0   \n",
       "3022  Color         Mabel Cheung                     6.0     130.0   \n",
       "3311  Color  Chatrichalerm Yukol                    31.0     300.0   \n",
       "3427  Color        Dennie Gordon                    11.0     114.0   \n",
       "3659  Color      Prachya Pinkaew                   112.0     111.0   \n",
       "\n",
       "      director_facebook_likes  actor_3_facebook_likes          actor_2_name  \\\n",
       "2388                     15.0                    27.0          Angelica Lee   \n",
       "2740                      0.0                     7.0   Petchtai Wongkamlao   \n",
       "3022                      3.0                     2.0         Ching Wan Lau   \n",
       "3311                      6.0                     6.0  Chatchai Plengpanich   \n",
       "3427                     29.0                    11.0              Ruby Lin   \n",
       "3659                     64.0                   380.0          Nathan Jones   \n",
       "\n",
       "      actor_1_facebook_likes       gross                              genres  \\\n",
       "2388                    82.0         NaN                              Action   \n",
       "2740                    64.0    102055.0                              Action   \n",
       "3022                   215.0         NaN                               Drama   \n",
       "3311                     7.0    454255.0  Action|Adventure|Drama|History|War   \n",
       "3427                   163.0     50000.0     Action|Adventure|Comedy|Romance   \n",
       "3659                   778.0  11905519.0         Action|Crime|Drama|Thriller   \n",
       "\n",
       "      ... num_user_for_reviews language   country  content_rating  \\\n",
       "2388  ...                  4.0  Chinese     China           PG-13   \n",
       "2740  ...                 72.0     Thai  Thailand               R   \n",
       "3022  ...                  6.0  Chinese     China             NaN   \n",
       "3311  ...                 47.0     Thai  Thailand               R   \n",
       "3427  ...                  2.0  Chinese     China             NaN   \n",
       "3659  ...                214.0     Thai  Thailand               R   \n",
       "\n",
       "           budget  title_year actor_2_facebook_likes imdb_score  aspect_ratio  \\\n",
       "2388          NaN      2013.0                   39.0        5.7          1.85   \n",
       "2740  300000000.0      2008.0                   45.0        6.2          2.35   \n",
       "3022   12000000.0      2015.0                   27.0        6.2          2.35   \n",
       "3311  400000000.0      2001.0                    6.0        6.6          1.85   \n",
       "3427          NaN      2013.0                   20.0        5.1          2.35   \n",
       "3659  200000000.0      2005.0                  635.0        7.1          1.85   \n",
       "\n",
       "     movie_facebook_likes  \n",
       "2388                  124  \n",
       "2740                    0  \n",
       "3022                    4  \n",
       "3311                  124  \n",
       "3427                   81  \n",
       "3659                    0  \n",
       "\n",
       "[6 rows x 28 columns]"
      ]
     },
     "execution_count": 32,
     "metadata": {},
     "output_type": "execute_result"
    }
   ],
   "source": [
    "df.groupby('language').filter(lambda x: len(x) == 3)"
   ]
  },
  {
   "cell_type": "code",
   "execution_count": 31,
   "metadata": {},
   "outputs": [
    {
     "data": {
      "text/plain": [
       "2388    Chinese\n",
       "2740       Thai\n",
       "3022    Chinese\n",
       "3311       Thai\n",
       "3427    Chinese\n",
       "3659       Thai\n",
       "Name: language, dtype: object"
      ]
     },
     "execution_count": 31,
     "metadata": {},
     "output_type": "execute_result"
    }
   ],
   "source": [
    "df.groupby('language').filter(lambda x: len(x) == 3)['language']"
   ]
  },
  {
   "cell_type": "code",
   "execution_count": 33,
   "metadata": {},
   "outputs": [
    {
     "data": {
      "text/plain": [
       "array(['Chinese', 'Thai'], dtype=object)"
      ]
     },
     "execution_count": 33,
     "metadata": {},
     "output_type": "execute_result"
    }
   ],
   "source": [
    "df.groupby('language').filter(lambda x: len(x) == 3)['language'].unique()"
   ]
  },
  {
   "cell_type": "markdown",
   "metadata": {},
   "source": [
    "## 4. Bonus: Which is faster?"
   ]
  },
  {
   "cell_type": "code",
   "execution_count": 34,
   "metadata": {},
   "outputs": [
    {
     "name": "stdout",
     "output_type": "stream",
     "text": [
      "100 loops, best of 3: 10.9 ms per loop\n"
     ]
    }
   ],
   "source": [
    "%timeit df.groupby('language').filter(lambda x: len(x) == 3)['language']"
   ]
  },
  {
   "cell_type": "code",
   "execution_count": 35,
   "metadata": {
    "scrolled": false
   },
   "outputs": [
    {
     "name": "stdout",
     "output_type": "stream",
     "text": [
      "100 loops, best of 3: 3.19 ms per loop\n"
     ]
    }
   ],
   "source": [
    "%timeit df[df['language'].isin(df['language'].value_counts()[df['language'].value_counts()==3].index)]['language']"
   ]
  },
  {
   "cell_type": "code",
   "execution_count": null,
   "metadata": {},
   "outputs": [],
   "source": []
  }
 ],
 "metadata": {
  "kernelspec": {
   "display_name": "Python 3",
   "language": "python",
   "name": "python3"
  },
  "language_info": {
   "codemirror_mode": {
    "name": "ipython",
    "version": 3
   },
   "file_extension": ".py",
   "mimetype": "text/x-python",
   "name": "python",
   "nbconvert_exporter": "python",
   "pygments_lexer": "ipython3",
   "version": "3.6.9"
  }
 },
 "nbformat": 4,
 "nbformat_minor": 2
}
