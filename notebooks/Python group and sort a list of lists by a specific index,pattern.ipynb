{
 "cells": [
  {
   "cell_type": "code",
   "execution_count": 1,
   "metadata": {},
   "outputs": [],
   "source": [
    "movies = [\n",
    "1, \"Avatar\" ,'good',\n",
    "2, \"Titanic\" ,'not bad',\n",
    "3, \"Star Wars: The Force Awakens\" ,'good',\n",
    "4, \"Jurassic World\" ,'good',\n",
    "5, \"The Avengers\" ,'not bad',\n",
    "6, \"Furious 7\" ,'not bad',\n",
    "7, \"Avengers: Age of Ultron\" ,'good',\n",
    "8, \"Harry Potter and the Deathly Hallows – Part 2\" ,'not bad',\n",
    "9, \"Frozen\" ,'good',\n",
    "\n",
    "\n",
    "\"The Birth of a Nation\" ,1915,\n",
    "\"The Birth of a Nation\" ,1940,\n",
    "\"Gone with the Wind\" ,1940,\n",
    "\"Gone with the Wind\" ,1963,\n",
    "\"Gone with the Wind\" ,1963,\n",
    "\"The Sound of Music\" ,1966]"
   ]
  },
  {
   "cell_type": "code",
   "execution_count": null,
   "metadata": {},
   "outputs": [],
   "source": [
    "def sortGroupList(list_unsorted, category, category2, short=True):\n",
    "    listx = []\n",
    "    listy = []\n",
    "    last_section = 0\n",
    "    for i in range(0, len(list_unsorted), 3):\n",
    "        if list_unsorted[i + 2] == category:\n",
    "            listy.append(list_unsorted[i])\n",
    "            listy.append(list_unsorted[i + 1])\n",
    "            if not short:\n",
    "                listy.append(list_unsorted[i + 2])\n",
    "            last_section = i+2\n",
    "        elif list_unsorted[i + 2] == category2:\n",
    "            listx.append(list_unsorted[i])\n",
    "            listx.append(list_unsorted[i + 1])\n",
    "            if not short:\n",
    "                listx.append(list_unsorted[i + 2])\n",
    "            last_section = i + 2\n",
    "    header_category = [' - ' + category + ' - ']\n",
    "    header_category2 = [' - ' + category2 + ' - ']\n",
    "    header_category3 = [' - '  + ' - ']\n",
    "    return header_category + listy + header_category2 + listx + header_category3 +  list_unsorted[last_section:]"
   ]
  },
  {
   "cell_type": "code",
   "execution_count": null,
   "metadata": {},
   "outputs": [],
   "source": [
    "sortGroupList(movies, 'good', 'not bad')"
   ]
  },
  {
   "cell_type": "code",
   "execution_count": null,
   "metadata": {},
   "outputs": [],
   "source": [
    "movies = [\n",
    "1, \"Avatar\" ,2009,\n",
    "2, \"Titanic\" ,1997,\n",
    "3, \"Star Wars: The Force Awakens\" ,2015,\n",
    "4, \"Jurassic World\" ,2015,\n",
    "5, \"The Avengers\" ,2012,\n",
    "6, \"Furious 7\" ,2015,\n",
    "7, \"Avengers: Age of Ultron\" ,2015,\n",
    "8, \"Harry Potter and the Deathly Hallows – Part 2\" ,2011,\n",
    "9, \"Frozen\" ,2013,\n",
    "\n",
    "\n",
    "\"The Birth of a Nation\" ,1915,\n",
    "\"The Birth of a Nation\" ,1940,\n",
    "\"Gone with the Wind\" ,1940,\n",
    "\"Gone with the Wind\" ,1963,\n",
    "\"The Sound of Music\" ,1966]"
   ]
  },
  {
   "cell_type": "code",
   "execution_count": null,
   "metadata": {},
   "outputs": [],
   "source": [
    "print(len(movies))"
   ]
  },
  {
   "cell_type": "code",
   "execution_count": null,
   "metadata": {},
   "outputs": [],
   "source": [
    "years = [str(x) for x in range(1997, 2015)]\n",
    "years"
   ]
  },
  {
   "cell_type": "code",
   "execution_count": null,
   "metadata": {},
   "outputs": [],
   "source": [
    "def sortGroupList(list_unsorted):\n",
    "    listx = []\n",
    "    listy = []\n",
    "    for i in range(0, len(list_unsorted), 3):\n",
    "        if list_unsorted[i + 2] in years:\n",
    "            listy.append(list_unsorted[i])\n",
    "            listy.append(list_unsorted[i + 1])\n",
    "            listy.append(list_unsorted[i + 2])\n",
    "        else:\n",
    "            listx.append(list_unsorted[i])\n",
    "            listx.append(list_unsorted[i + 1])\n",
    "            listx.append(list_unsorted[i + 2])\n",
    "    for i in listy:\n",
    "        print(i)\n",
    "    for i in listx:\n",
    "        print(i)"
   ]
  },
  {
   "cell_type": "code",
   "execution_count": null,
   "metadata": {},
   "outputs": [],
   "source": [
    "sortGroupList(movies)"
   ]
  },
  {
   "cell_type": "code",
   "execution_count": null,
   "metadata": {},
   "outputs": [],
   "source": [
    "\n",
    "movies = [\n",
    "1, \"Avatar\" ,'good',\n",
    "2, \"Titanic\" ,'not bad',\n",
    "3, \"Star Wars: The Force Awakens\" ,'good',\n",
    "4, \"Jurassic World\" ,'good',\n",
    "5, \"The Avengers\" ,'not bad',\n",
    "6, \"Furious 7\" ,'not bad',\n",
    "7, \"Avengers: Age of Ultron\" ,'good',\n",
    "8, \"Harry Potter and the Deathly Hallows – Part 2\" ,'not bad',\n",
    "9, \"Frozen\" ,'good',\n",
    "\n",
    "\n",
    "\"The Birth of a Nation\" ,1915,\n",
    "\"The Birth of a Nation\" ,1940,\n",
    "\"Gone with the Wind\" ,1940,\n",
    "\"Gone with the Wind\" ,1963,\n",
    "\"The Sound of Music\" ,1966]\n",
    "df = pd.DataFrame(movies)"
   ]
  },
  {
   "cell_type": "code",
   "execution_count": null,
   "metadata": {},
   "outputs": [],
   "source": [
    "df"
   ]
  },
  {
   "cell_type": "code",
   "execution_count": 2,
   "metadata": {},
   "outputs": [],
   "source": [
    "import pandas as pd\n",
    "types = []\n",
    "raw_list = []\n",
    "for e in movies:\n",
    "    types.append(type(e))\n",
    "    if isinstance(e, int):\n",
    "        raw_list.append(1)\n",
    "    else:\n",
    "        raw_list.append(0)\n",
    "df1 = pd.DataFrame({'elem':movies, 'types':types})    "
   ]
  },
  {
   "cell_type": "code",
   "execution_count": 3,
   "metadata": {},
   "outputs": [],
   "source": [
    "raw_list = [1,\n",
    " 0,\n",
    " 0,\n",
    " 1,\n",
    " 0,\n",
    " 0,\n",
    " 1,\n",
    " 0,\n",
    " 0,\n",
    " 1,\n",
    " 0,\n",
    " 0,\n",
    " 1,\n",
    " 0,\n",
    " 0,\n",
    " 1,\n",
    " 0,\n",
    " 0,\n",
    " 1,\n",
    " 0,\n",
    " 0,\n",
    " 1,\n",
    " 0,\n",
    " 0,\n",
    " 1,\n",
    " 0,\n",
    " 0,\n",
    " 0,\n",
    " 1,\n",
    " 0,\n",
    " 1,\n",
    " 0,\n",
    " 1,\n",
    " 0,\n",
    " 1,\n",
    " 0,\n",
    " 1]\n",
    "movies = [\n",
    "1, \"Avatar\" ,'good',\n",
    "2, \"Titanic\" ,'not bad',\n",
    "3, \"Star Wars: The Force Awakens\" ,'good',\n",
    "4, \"Jurassic World\" ,'good',\n",
    "5, \"The Avengers\" ,'not bad',\n",
    "6, \"Furious 7\" ,'not bad',\n",
    "7, \"Avengers: Age of Ultron\" ,'good',\n",
    "8, \"Harry Potter and the Deathly Hallows – Part 2\" ,'not bad',\n",
    "9, \"Frozen\" ,'good',\n",
    "\n",
    "\n",
    "\"The Birth of a Nation\" ,1915,\n",
    "\"The Birth of a Nation\" ,1940,\n",
    "\"Gone with the Wind\" ,1940,\n",
    "\"Gone with the Wind\" ,1963,\n",
    "\"The Sound of Music\" ,1966]"
   ]
  },
  {
   "cell_type": "code",
   "execution_count": 4,
   "metadata": {},
   "outputs": [
    {
     "name": "stdout",
     "output_type": "stream",
     "text": [
      "[0, 1]\n",
      "[0, 1]\n",
      "[0, 1]\n",
      "[0, 1]\n",
      "[0, 1]\n"
     ]
    },
    {
     "data": {
      "text/plain": [
       "[[1, 'Avatar', 'good'],\n",
       " [2, 'Titanic', 'not bad'],\n",
       " [3, 'Star Wars: The Force Awakens', 'good'],\n",
       " [4, 'Jurassic World', 'good'],\n",
       " [5, 'The Avengers', 'not bad'],\n",
       " [6, 'Furious 7', 'not bad'],\n",
       " [7, 'Avengers: Age of Ultron', 'good'],\n",
       " [8, 'Harry Potter and the Deathly Hallows – Part 2', 'not bad'],\n",
       " [9, 'Frozen', 'good']]"
      ]
     },
     "execution_count": 4,
     "metadata": {},
     "output_type": "execute_result"
    }
   ],
   "source": [
    "patern1 = [1, 0, 0]\n",
    "patern2 = [1, 0]\n",
    "\n",
    "len1 = len(patern1)\n",
    "len2 = len(patern2)\n",
    "\n",
    "output1 = []\n",
    "output2 = []\n",
    "\n",
    "while(raw_list):\n",
    "    if raw_list[:len1] == patern1:    \n",
    "        output1.append(movies[:len1])\n",
    "        raw_list = raw_list[len1:]\n",
    "        movies = movies[len1:]\n",
    "    else:\n",
    "        print(raw_list[:len2])\n",
    "        output2.append(movies[:len2])\n",
    "        raw_list = raw_list[len2:]\n",
    "        movies = movies[len2:]\n",
    "    \n",
    "output1"
   ]
  },
  {
   "cell_type": "code",
   "execution_count": 5,
   "metadata": {},
   "outputs": [
    {
     "data": {
      "text/plain": [
       "[['The Birth of a Nation', 1915],\n",
       " ['The Birth of a Nation', 1940],\n",
       " ['Gone with the Wind', 1940],\n",
       " ['Gone with the Wind', 1963],\n",
       " ['The Sound of Music', 1966]]"
      ]
     },
     "execution_count": 5,
     "metadata": {},
     "output_type": "execute_result"
    }
   ],
   "source": [
    "output2"
   ]
  },
  {
   "cell_type": "code",
   "execution_count": 6,
   "metadata": {},
   "outputs": [],
   "source": [
    "\n",
    "new_list = sorted(output1, key=lambda x: x[2])"
   ]
  },
  {
   "cell_type": "code",
   "execution_count": 7,
   "metadata": {},
   "outputs": [
    {
     "data": {
      "text/plain": [
       "[[1, 'Avatar', 'good'],\n",
       " [3, 'Star Wars: The Force Awakens', 'good'],\n",
       " [4, 'Jurassic World', 'good'],\n",
       " [7, 'Avengers: Age of Ultron', 'good'],\n",
       " [9, 'Frozen', 'good'],\n",
       " [2, 'Titanic', 'not bad'],\n",
       " [5, 'The Avengers', 'not bad'],\n",
       " [6, 'Furious 7', 'not bad'],\n",
       " [8, 'Harry Potter and the Deathly Hallows – Part 2', 'not bad']]"
      ]
     },
     "execution_count": 7,
     "metadata": {},
     "output_type": "execute_result"
    }
   ],
   "source": [
    "new_list"
   ]
  },
  {
   "cell_type": "markdown",
   "metadata": {},
   "source": [
    "## Python make groups in a list"
   ]
  },
  {
   "cell_type": "markdown",
   "metadata": {},
   "source": [
    "#### Simple grouping"
   ]
  },
  {
   "cell_type": "code",
   "execution_count": null,
   "metadata": {},
   "outputs": [],
   "source": []
  }
 ],
 "metadata": {
  "kernelspec": {
   "display_name": "Python 3",
   "language": "python",
   "name": "python3"
  },
  "language_info": {
   "codemirror_mode": {
    "name": "ipython",
    "version": 3
   },
   "file_extension": ".py",
   "mimetype": "text/x-python",
   "name": "python",
   "nbconvert_exporter": "python",
   "pygments_lexer": "ipython3",
   "version": "3.6.7"
  }
 },
 "nbformat": 4,
 "nbformat_minor": 1
}
